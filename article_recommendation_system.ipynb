{
 "metadata": {
  "language_info": {
   "codemirror_mode": {
    "name": "ipython",
    "version": 3
   },
   "file_extension": ".py",
   "mimetype": "text/x-python",
   "name": "python",
   "nbconvert_exporter": "python",
   "pygments_lexer": "ipython3",
   "version": 3
  },
  "orig_nbformat": 2,
  "kernelspec": {
   "name": "python_defaultSpec_1596971778792",
   "display_name": "Python 3.7.4 64-bit ('base': conda)"
  }
 },
 "nbformat": 4,
 "nbformat_minor": 2,
 "cells": [
  {
   "cell_type": "code",
   "execution_count": 5,
   "metadata": {
    "tags": []
   },
   "outputs": [
    {
     "output_type": "stream",
     "name": "stdout",
     "text": "Requirement already satisfied: seaborn in c:\\users\\prasan\\miniconda3\\lib\\site-packages (0.10.1)\nCollecting plotly\n  Downloading plotly-4.9.0-py2.py3-none-any.whl (12.9 MB)\nRequirement already satisfied: matplotlib>=2.1.2 in c:\\users\\prasan\\miniconda3\\lib\\site-packages (from seaborn) (3.0.3)\nRequirement already satisfied: numpy>=1.13.3 in c:\\users\\prasan\\miniconda3\\lib\\site-packages (from seaborn) (1.18.4)\nRequirement already satisfied: pandas>=0.22.0 in c:\\users\\prasan\\appdata\\roaming\\python\\python37\\site-packages (from seaborn) (1.0.1)\nRequirement already satisfied: scipy>=1.0.1 in c:\\users\\prasan\\miniconda3\\lib\\site-packages (from seaborn) (1.4.1)\nCollecting retrying>=1.3.3\n  Downloading retrying-1.3.3.tar.gz (10 kB)\nRequirement already satisfied: six in c:\\users\\prasan\\miniconda3\\lib\\site-packages (from plotly) (1.12.0)\nRequirement already satisfied: python-dateutil>=2.1 in c:\\users\\prasan\\miniconda3\\lib\\site-packages (from matplotlib>=2.1.2->seaborn) (2.7.5)\nRequirement already satisfied: cycler>=0.10 in c:\\users\\prasan\\appdata\\roaming\\python\\python37\\site-packages (from matplotlib>=2.1.2->seaborn) (0.10.0)\nRequirement already satisfied: pyparsing!=2.0.4,!=2.1.2,!=2.1.6,>=2.0.1 in c:\\users\\prasan\\miniconda3\\lib\\site-packages (from matplotlib>=2.1.2->seaborn) (2.4.0)\nRequirement already satisfied: kiwisolver>=1.0.1 in c:\\users\\prasan\\miniconda3\\lib\\site-packages (from matplotlib>=2.1.2->seaborn) (1.0.1)\nRequirement already satisfied: pytz>=2017.2 in c:\\users\\prasan\\miniconda3\\lib\\site-packages (from pandas>=0.22.0->seaborn) (2019.1)\nRequirement already satisfied: setuptools in c:\\users\\prasan\\miniconda3\\lib\\site-packages (from kiwisolver>=1.0.1->matplotlib>=2.1.2->seaborn) (41.4.0)\nBuilding wheels for collected packages: retrying\n  Building wheel for retrying (setup.py): started\n  Building wheel for retrying (setup.py): finished with status 'done'\n  Created wheel for retrying: filename=retrying-1.3.3-py3-none-any.whl size=11434 sha256=80d9fd59b99a2a482bf04e70d4340759a0f8dc6cdd65bc753e99ca25c9951811\n  Stored in directory: c:\\users\\prasan\\appdata\\local\\pip\\cache\\wheels\\f9\\8d\\8d\\f6af3f7f9eea3553bc2fe6d53e4b287dad18b06a861ac56ddf\nSuccessfully built retrying\nInstalling collected packages: retrying, plotly\nSuccessfully installed plotly-4.9.0 retrying-1.3.3\nWARNING: You are using pip version 20.1.1; however, version 20.2.1 is available.\nYou should consider upgrading via the 'C:\\Users\\Prasan\\Miniconda3\\python.exe -m pip install --upgrade pip' command.\n"
    }
   ],
   "source": [
    "!python -m pip install seaborn plotly\n",
    "\n",
    "import numpy as np\n",
    "import pandas as pd\n",
    "\n",
    "import os\n",
    "import math\n",
    "import time\n",
    "\n",
    "import matplotlib.pyplot as plt\n",
    "import seaborn as sns\n",
    "import plotly.figure_factory as ff\n",
    "import plotly.graph_objects as go\n",
    "import plotly.express as px\n",
    "\n",
    "#Text processing\n",
    "from nltk.corpus import stopwords\n",
    "from nltk.tokenize import word_tokenize\n",
    "from nltk.stem import WordNetLemmatizer\n",
    "\n",
    "#Feature representation\n",
    "from sklearn.feature_extraction.text import CountVectorizer\n",
    "from sklearn.feature_extraction.text import TfidfVectorizer\n",
    "\n",
    "#Similarity matrices\n",
    "from sklearn.metrics.pairwise import cosine_similarity  \n",
    "from sklearn.metrics import pairwise_distances\n"
   ]
  },
  {
   "cell_type": "code",
   "execution_count": 6,
   "metadata": {},
   "outputs": [],
   "source": [
    "news_articles = pd.read_json(\"News_Category_Dataset_v2.json\", lines = True)"
   ]
  },
  {
   "cell_type": "code",
   "execution_count": 7,
   "metadata": {
    "tags": []
   },
   "outputs": [
    {
     "output_type": "stream",
     "name": "stdout",
     "text": "<class 'pandas.core.frame.DataFrame'>\nRangeIndex: 200853 entries, 0 to 200852\nData columns (total 6 columns):\n #   Column             Non-Null Count   Dtype         \n---  ------             --------------   -----         \n 0   category           200853 non-null  object        \n 1   headline           200853 non-null  object        \n 2   authors            200853 non-null  object        \n 3   link               200853 non-null  object        \n 4   short_description  200853 non-null  object        \n 5   date               200853 non-null  datetime64[ns]\ndtypes: datetime64[ns](1), object(5)\nmemory usage: 9.2+ MB\n"
    }
   ],
   "source": [
    "news_articles.info()"
   ]
  },
  {
   "cell_type": "code",
   "execution_count": 8,
   "metadata": {},
   "outputs": [
    {
     "output_type": "execute_result",
     "data": {
      "text/plain": "        category                                           headline  \\\n0          CRIME  There Were 2 Mass Shootings In Texas Last Week...   \n1  ENTERTAINMENT  Will Smith Joins Diplo And Nicky Jam For The 2...   \n2  ENTERTAINMENT    Hugh Grant Marries For The First Time At Age 57   \n3  ENTERTAINMENT  Jim Carrey Blasts 'Castrato' Adam Schiff And D...   \n4  ENTERTAINMENT  Julianna Margulies Uses Donald Trump Poop Bags...   \n\n           authors                                               link  \\\n0  Melissa Jeltsen  https://www.huffingtonpost.com/entry/texas-ama...   \n1    Andy McDonald  https://www.huffingtonpost.com/entry/will-smit...   \n2       Ron Dicker  https://www.huffingtonpost.com/entry/hugh-gran...   \n3       Ron Dicker  https://www.huffingtonpost.com/entry/jim-carre...   \n4       Ron Dicker  https://www.huffingtonpost.com/entry/julianna-...   \n\n                                   short_description       date  \n0  She left her husband. He killed their children... 2018-05-26  \n1                           Of course it has a song. 2018-05-26  \n2  The actor and his longtime girlfriend Anna Ebe... 2018-05-26  \n3  The actor gives Dems an ass-kicking for not fi... 2018-05-26  \n4  The \"Dietland\" actress said using the bags is ... 2018-05-26  ",
      "text/html": "<div>\n<style scoped>\n    .dataframe tbody tr th:only-of-type {\n        vertical-align: middle;\n    }\n\n    .dataframe tbody tr th {\n        vertical-align: top;\n    }\n\n    .dataframe thead th {\n        text-align: right;\n    }\n</style>\n<table border=\"1\" class=\"dataframe\">\n  <thead>\n    <tr style=\"text-align: right;\">\n      <th></th>\n      <th>category</th>\n      <th>headline</th>\n      <th>authors</th>\n      <th>link</th>\n      <th>short_description</th>\n      <th>date</th>\n    </tr>\n  </thead>\n  <tbody>\n    <tr>\n      <th>0</th>\n      <td>CRIME</td>\n      <td>There Were 2 Mass Shootings In Texas Last Week...</td>\n      <td>Melissa Jeltsen</td>\n      <td>https://www.huffingtonpost.com/entry/texas-ama...</td>\n      <td>She left her husband. He killed their children...</td>\n      <td>2018-05-26</td>\n    </tr>\n    <tr>\n      <th>1</th>\n      <td>ENTERTAINMENT</td>\n      <td>Will Smith Joins Diplo And Nicky Jam For The 2...</td>\n      <td>Andy McDonald</td>\n      <td>https://www.huffingtonpost.com/entry/will-smit...</td>\n      <td>Of course it has a song.</td>\n      <td>2018-05-26</td>\n    </tr>\n    <tr>\n      <th>2</th>\n      <td>ENTERTAINMENT</td>\n      <td>Hugh Grant Marries For The First Time At Age 57</td>\n      <td>Ron Dicker</td>\n      <td>https://www.huffingtonpost.com/entry/hugh-gran...</td>\n      <td>The actor and his longtime girlfriend Anna Ebe...</td>\n      <td>2018-05-26</td>\n    </tr>\n    <tr>\n      <th>3</th>\n      <td>ENTERTAINMENT</td>\n      <td>Jim Carrey Blasts 'Castrato' Adam Schiff And D...</td>\n      <td>Ron Dicker</td>\n      <td>https://www.huffingtonpost.com/entry/jim-carre...</td>\n      <td>The actor gives Dems an ass-kicking for not fi...</td>\n      <td>2018-05-26</td>\n    </tr>\n    <tr>\n      <th>4</th>\n      <td>ENTERTAINMENT</td>\n      <td>Julianna Margulies Uses Donald Trump Poop Bags...</td>\n      <td>Ron Dicker</td>\n      <td>https://www.huffingtonpost.com/entry/julianna-...</td>\n      <td>The \"Dietland\" actress said using the bags is ...</td>\n      <td>2018-05-26</td>\n    </tr>\n  </tbody>\n</table>\n</div>"
     },
     "metadata": {},
     "execution_count": 8
    }
   ],
   "source": [
    "news_articles.head()"
   ]
  },
  {
   "cell_type": "code",
   "execution_count": 9,
   "metadata": {},
   "outputs": [],
   "source": [
    "news_articles = news_articles[news_articles['date'] >= pd.Timestamp(2018,1,1)]"
   ]
  },
  {
   "cell_type": "code",
   "execution_count": 10,
   "metadata": {},
   "outputs": [
    {
     "output_type": "execute_result",
     "data": {
      "text/plain": "(8583, 6)"
     },
     "metadata": {},
     "execution_count": 10
    }
   ],
   "source": [
    "news_articles.shape"
   ]
  },
  {
   "cell_type": "code",
   "execution_count": 11,
   "metadata": {
    "tags": []
   },
   "outputs": [
    {
     "output_type": "stream",
     "name": "stdout",
     "text": "Total number of articles after removal of headlines with short title: 8530\n"
    }
   ],
   "source": [
    "news_articles = news_articles[news_articles['headline'].apply(lambda x: len(x.split())>5)]\n",
    "\n",
    "print(\"Total number of articles after removal of headlines with short title:\", news_articles.shape[0])"
   ]
  },
  {
   "cell_type": "code",
   "execution_count": 12,
   "metadata": {
    "tags": []
   },
   "outputs": [
    {
     "output_type": "stream",
     "name": "stdout",
     "text": "Total number of articles after removing duplicates: 8485\n"
    }
   ],
   "source": [
    "news_articles.sort_values('headline',inplace=True, ascending=False)\n",
    "\n",
    "duplicated_articles_series = news_articles.duplicated('headline', keep = False)\n",
    "\n",
    "news_articles = news_articles[~duplicated_articles_series]\n",
    "\n",
    "print(\"Total number of articles after removing duplicates:\", news_articles.shape[0])"
   ]
  },
  {
   "cell_type": "code",
   "execution_count": 13,
   "metadata": {},
   "outputs": [
    {
     "output_type": "execute_result",
     "data": {
      "text/plain": "category             0\nheadline             0\nauthors              0\nlink                 0\nshort_description    0\ndate                 0\ndtype: int64"
     },
     "metadata": {},
     "execution_count": 13
    }
   ],
   "source": [
    "news_articles.isna().sum()"
   ]
  },
  {
   "cell_type": "code",
   "execution_count": 14,
   "metadata": {
    "tags": []
   },
   "outputs": [
    {
     "output_type": "stream",
     "name": "stdout",
     "text": "Total number of articles :  8485\nTotal number of authors :  892\nTotal number of unqiue categories :  26\n"
    }
   ],
   "source": [
    "print(\"Total number of articles : \", news_articles.shape[0])\n",
    "\n",
    "print(\"Total number of authors : \", news_articles[\"authors\"].nunique())\n",
    "\n",
    "print(\"Total number of unqiue categories : \", news_articles[\"category\"].nunique())"
   ]
  },
  {
   "cell_type": "code",
   "execution_count": 15,
   "metadata": {},
   "outputs": [
    {
     "output_type": "display_data",
     "data": {
      "application/vnd.plotly.v1+json": {
       "config": {
        "plotlyServerURL": "https://plot.ly"
       },
       "data": [
        {
         "type": "bar",
         "x": [
          "POLITICS",
          "ENTERTAINMENT",
          "WORLD NEWS",
          "QUEER VOICES",
          "COMEDY",
          "BLACK VOICES",
          "SPORTS",
          "MEDIA",
          "WOMEN",
          "WEIRD NEWS",
          "CRIME",
          "BUSINESS",
          "LATINO VOICES",
          "IMPACT",
          "TRAVEL",
          "RELIGION",
          "TECH",
          "SCIENCE",
          "STYLE",
          "PARENTS",
          "EDUCATION",
          "GREEN",
          "HEALTHY LIVING",
          "ARTS & CULTURE",
          "TASTE",
          "COLLEGE"
         ],
         "y": [
          3042,
          1699,
          557,
          451,
          443,
          406,
          364,
          290,
          226,
          205,
          170,
          85,
          83,
          73,
          72,
          63,
          53,
          40,
          34,
          32,
          31,
          28,
          15,
          13,
          9,
          1
         ]
        }
       ],
       "layout": {
        "height": 700,
        "template": {
         "data": {
          "bar": [
           {
            "error_x": {
             "color": "#2a3f5f"
            },
            "error_y": {
             "color": "#2a3f5f"
            },
            "marker": {
             "line": {
              "color": "#E5ECF6",
              "width": 0.5
             }
            },
            "type": "bar"
           }
          ],
          "barpolar": [
           {
            "marker": {
             "line": {
              "color": "#E5ECF6",
              "width": 0.5
             }
            },
            "type": "barpolar"
           }
          ],
          "carpet": [
           {
            "aaxis": {
             "endlinecolor": "#2a3f5f",
             "gridcolor": "white",
             "linecolor": "white",
             "minorgridcolor": "white",
             "startlinecolor": "#2a3f5f"
            },
            "baxis": {
             "endlinecolor": "#2a3f5f",
             "gridcolor": "white",
             "linecolor": "white",
             "minorgridcolor": "white",
             "startlinecolor": "#2a3f5f"
            },
            "type": "carpet"
           }
          ],
          "choropleth": [
           {
            "colorbar": {
             "outlinewidth": 0,
             "ticks": ""
            },
            "type": "choropleth"
           }
          ],
          "contour": [
           {
            "colorbar": {
             "outlinewidth": 0,
             "ticks": ""
            },
            "colorscale": [
             [
              0,
              "#0d0887"
             ],
             [
              0.1111111111111111,
              "#46039f"
             ],
             [
              0.2222222222222222,
              "#7201a8"
             ],
             [
              0.3333333333333333,
              "#9c179e"
             ],
             [
              0.4444444444444444,
              "#bd3786"
             ],
             [
              0.5555555555555556,
              "#d8576b"
             ],
             [
              0.6666666666666666,
              "#ed7953"
             ],
             [
              0.7777777777777778,
              "#fb9f3a"
             ],
             [
              0.8888888888888888,
              "#fdca26"
             ],
             [
              1,
              "#f0f921"
             ]
            ],
            "type": "contour"
           }
          ],
          "contourcarpet": [
           {
            "colorbar": {
             "outlinewidth": 0,
             "ticks": ""
            },
            "type": "contourcarpet"
           }
          ],
          "heatmap": [
           {
            "colorbar": {
             "outlinewidth": 0,
             "ticks": ""
            },
            "colorscale": [
             [
              0,
              "#0d0887"
             ],
             [
              0.1111111111111111,
              "#46039f"
             ],
             [
              0.2222222222222222,
              "#7201a8"
             ],
             [
              0.3333333333333333,
              "#9c179e"
             ],
             [
              0.4444444444444444,
              "#bd3786"
             ],
             [
              0.5555555555555556,
              "#d8576b"
             ],
             [
              0.6666666666666666,
              "#ed7953"
             ],
             [
              0.7777777777777778,
              "#fb9f3a"
             ],
             [
              0.8888888888888888,
              "#fdca26"
             ],
             [
              1,
              "#f0f921"
             ]
            ],
            "type": "heatmap"
           }
          ],
          "heatmapgl": [
           {
            "colorbar": {
             "outlinewidth": 0,
             "ticks": ""
            },
            "colorscale": [
             [
              0,
              "#0d0887"
             ],
             [
              0.1111111111111111,
              "#46039f"
             ],
             [
              0.2222222222222222,
              "#7201a8"
             ],
             [
              0.3333333333333333,
              "#9c179e"
             ],
             [
              0.4444444444444444,
              "#bd3786"
             ],
             [
              0.5555555555555556,
              "#d8576b"
             ],
             [
              0.6666666666666666,
              "#ed7953"
             ],
             [
              0.7777777777777778,
              "#fb9f3a"
             ],
             [
              0.8888888888888888,
              "#fdca26"
             ],
             [
              1,
              "#f0f921"
             ]
            ],
            "type": "heatmapgl"
           }
          ],
          "histogram": [
           {
            "marker": {
             "colorbar": {
              "outlinewidth": 0,
              "ticks": ""
             }
            },
            "type": "histogram"
           }
          ],
          "histogram2d": [
           {
            "colorbar": {
             "outlinewidth": 0,
             "ticks": ""
            },
            "colorscale": [
             [
              0,
              "#0d0887"
             ],
             [
              0.1111111111111111,
              "#46039f"
             ],
             [
              0.2222222222222222,
              "#7201a8"
             ],
             [
              0.3333333333333333,
              "#9c179e"
             ],
             [
              0.4444444444444444,
              "#bd3786"
             ],
             [
              0.5555555555555556,
              "#d8576b"
             ],
             [
              0.6666666666666666,
              "#ed7953"
             ],
             [
              0.7777777777777778,
              "#fb9f3a"
             ],
             [
              0.8888888888888888,
              "#fdca26"
             ],
             [
              1,
              "#f0f921"
             ]
            ],
            "type": "histogram2d"
           }
          ],
          "histogram2dcontour": [
           {
            "colorbar": {
             "outlinewidth": 0,
             "ticks": ""
            },
            "colorscale": [
             [
              0,
              "#0d0887"
             ],
             [
              0.1111111111111111,
              "#46039f"
             ],
             [
              0.2222222222222222,
              "#7201a8"
             ],
             [
              0.3333333333333333,
              "#9c179e"
             ],
             [
              0.4444444444444444,
              "#bd3786"
             ],
             [
              0.5555555555555556,
              "#d8576b"
             ],
             [
              0.6666666666666666,
              "#ed7953"
             ],
             [
              0.7777777777777778,
              "#fb9f3a"
             ],
             [
              0.8888888888888888,
              "#fdca26"
             ],
             [
              1,
              "#f0f921"
             ]
            ],
            "type": "histogram2dcontour"
           }
          ],
          "mesh3d": [
           {
            "colorbar": {
             "outlinewidth": 0,
             "ticks": ""
            },
            "type": "mesh3d"
           }
          ],
          "parcoords": [
           {
            "line": {
             "colorbar": {
              "outlinewidth": 0,
              "ticks": ""
             }
            },
            "type": "parcoords"
           }
          ],
          "pie": [
           {
            "automargin": true,
            "type": "pie"
           }
          ],
          "scatter": [
           {
            "marker": {
             "colorbar": {
              "outlinewidth": 0,
              "ticks": ""
             }
            },
            "type": "scatter"
           }
          ],
          "scatter3d": [
           {
            "line": {
             "colorbar": {
              "outlinewidth": 0,
              "ticks": ""
             }
            },
            "marker": {
             "colorbar": {
              "outlinewidth": 0,
              "ticks": ""
             }
            },
            "type": "scatter3d"
           }
          ],
          "scattercarpet": [
           {
            "marker": {
             "colorbar": {
              "outlinewidth": 0,
              "ticks": ""
             }
            },
            "type": "scattercarpet"
           }
          ],
          "scattergeo": [
           {
            "marker": {
             "colorbar": {
              "outlinewidth": 0,
              "ticks": ""
             }
            },
            "type": "scattergeo"
           }
          ],
          "scattergl": [
           {
            "marker": {
             "colorbar": {
              "outlinewidth": 0,
              "ticks": ""
             }
            },
            "type": "scattergl"
           }
          ],
          "scattermapbox": [
           {
            "marker": {
             "colorbar": {
              "outlinewidth": 0,
              "ticks": ""
             }
            },
            "type": "scattermapbox"
           }
          ],
          "scatterpolar": [
           {
            "marker": {
             "colorbar": {
              "outlinewidth": 0,
              "ticks": ""
             }
            },
            "type": "scatterpolar"
           }
          ],
          "scatterpolargl": [
           {
            "marker": {
             "colorbar": {
              "outlinewidth": 0,
              "ticks": ""
             }
            },
            "type": "scatterpolargl"
           }
          ],
          "scatterternary": [
           {
            "marker": {
             "colorbar": {
              "outlinewidth": 0,
              "ticks": ""
             }
            },
            "type": "scatterternary"
           }
          ],
          "surface": [
           {
            "colorbar": {
             "outlinewidth": 0,
             "ticks": ""
            },
            "colorscale": [
             [
              0,
              "#0d0887"
             ],
             [
              0.1111111111111111,
              "#46039f"
             ],
             [
              0.2222222222222222,
              "#7201a8"
             ],
             [
              0.3333333333333333,
              "#9c179e"
             ],
             [
              0.4444444444444444,
              "#bd3786"
             ],
             [
              0.5555555555555556,
              "#d8576b"
             ],
             [
              0.6666666666666666,
              "#ed7953"
             ],
             [
              0.7777777777777778,
              "#fb9f3a"
             ],
             [
              0.8888888888888888,
              "#fdca26"
             ],
             [
              1,
              "#f0f921"
             ]
            ],
            "type": "surface"
           }
          ],
          "table": [
           {
            "cells": {
             "fill": {
              "color": "#EBF0F8"
             },
             "line": {
              "color": "white"
             }
            },
            "header": {
             "fill": {
              "color": "#C8D4E3"
             },
             "line": {
              "color": "white"
             }
            },
            "type": "table"
           }
          ]
         },
         "layout": {
          "annotationdefaults": {
           "arrowcolor": "#2a3f5f",
           "arrowhead": 0,
           "arrowwidth": 1
          },
          "coloraxis": {
           "colorbar": {
            "outlinewidth": 0,
            "ticks": ""
           }
          },
          "colorscale": {
           "diverging": [
            [
             0,
             "#8e0152"
            ],
            [
             0.1,
             "#c51b7d"
            ],
            [
             0.2,
             "#de77ae"
            ],
            [
             0.3,
             "#f1b6da"
            ],
            [
             0.4,
             "#fde0ef"
            ],
            [
             0.5,
             "#f7f7f7"
            ],
            [
             0.6,
             "#e6f5d0"
            ],
            [
             0.7,
             "#b8e186"
            ],
            [
             0.8,
             "#7fbc41"
            ],
            [
             0.9,
             "#4d9221"
            ],
            [
             1,
             "#276419"
            ]
           ],
           "sequential": [
            [
             0,
             "#0d0887"
            ],
            [
             0.1111111111111111,
             "#46039f"
            ],
            [
             0.2222222222222222,
             "#7201a8"
            ],
            [
             0.3333333333333333,
             "#9c179e"
            ],
            [
             0.4444444444444444,
             "#bd3786"
            ],
            [
             0.5555555555555556,
             "#d8576b"
            ],
            [
             0.6666666666666666,
             "#ed7953"
            ],
            [
             0.7777777777777778,
             "#fb9f3a"
            ],
            [
             0.8888888888888888,
             "#fdca26"
            ],
            [
             1,
             "#f0f921"
            ]
           ],
           "sequentialminus": [
            [
             0,
             "#0d0887"
            ],
            [
             0.1111111111111111,
             "#46039f"
            ],
            [
             0.2222222222222222,
             "#7201a8"
            ],
            [
             0.3333333333333333,
             "#9c179e"
            ],
            [
             0.4444444444444444,
             "#bd3786"
            ],
            [
             0.5555555555555556,
             "#d8576b"
            ],
            [
             0.6666666666666666,
             "#ed7953"
            ],
            [
             0.7777777777777778,
             "#fb9f3a"
            ],
            [
             0.8888888888888888,
             "#fdca26"
            ],
            [
             1,
             "#f0f921"
            ]
           ]
          },
          "colorway": [
           "#636efa",
           "#EF553B",
           "#00cc96",
           "#ab63fa",
           "#FFA15A",
           "#19d3f3",
           "#FF6692",
           "#B6E880",
           "#FF97FF",
           "#FECB52"
          ],
          "font": {
           "color": "#2a3f5f"
          },
          "geo": {
           "bgcolor": "white",
           "lakecolor": "white",
           "landcolor": "#E5ECF6",
           "showlakes": true,
           "showland": true,
           "subunitcolor": "white"
          },
          "hoverlabel": {
           "align": "left"
          },
          "hovermode": "closest",
          "mapbox": {
           "style": "light"
          },
          "paper_bgcolor": "white",
          "plot_bgcolor": "#E5ECF6",
          "polar": {
           "angularaxis": {
            "gridcolor": "white",
            "linecolor": "white",
            "ticks": ""
           },
           "bgcolor": "#E5ECF6",
           "radialaxis": {
            "gridcolor": "white",
            "linecolor": "white",
            "ticks": ""
           }
          },
          "scene": {
           "xaxis": {
            "backgroundcolor": "#E5ECF6",
            "gridcolor": "white",
            "gridwidth": 2,
            "linecolor": "white",
            "showbackground": true,
            "ticks": "",
            "zerolinecolor": "white"
           },
           "yaxis": {
            "backgroundcolor": "#E5ECF6",
            "gridcolor": "white",
            "gridwidth": 2,
            "linecolor": "white",
            "showbackground": true,
            "ticks": "",
            "zerolinecolor": "white"
           },
           "zaxis": {
            "backgroundcolor": "#E5ECF6",
            "gridcolor": "white",
            "gridwidth": 2,
            "linecolor": "white",
            "showbackground": true,
            "ticks": "",
            "zerolinecolor": "white"
           }
          },
          "shapedefaults": {
           "line": {
            "color": "#2a3f5f"
           }
          },
          "ternary": {
           "aaxis": {
            "gridcolor": "white",
            "linecolor": "white",
            "ticks": ""
           },
           "baxis": {
            "gridcolor": "white",
            "linecolor": "white",
            "ticks": ""
           },
           "bgcolor": "#E5ECF6",
           "caxis": {
            "gridcolor": "white",
            "linecolor": "white",
            "ticks": ""
           }
          },
          "title": {
           "x": 0.05
          },
          "xaxis": {
           "automargin": true,
           "gridcolor": "white",
           "linecolor": "white",
           "ticks": "",
           "title": {
            "standoff": 15
           },
           "zerolinecolor": "white",
           "zerolinewidth": 2
          },
          "yaxis": {
           "automargin": true,
           "gridcolor": "white",
           "linecolor": "white",
           "ticks": "",
           "title": {
            "standoff": 15
           },
           "zerolinecolor": "white",
           "zerolinewidth": 2
          }
         }
        },
        "title": {
         "text": "Distribution of articles category-wise",
         "x": 0.5,
         "xanchor": "center",
         "y": 0.9,
         "yanchor": "top"
        },
        "width": 800,
        "xaxis": {
         "title": {
          "text": "Category name"
         }
        },
        "yaxis": {
         "title": {
          "text": "Number of articles"
         }
        }
       }
      }
     },
     "metadata": {}
    }
   ],
   "source": [
    "fig = go.Figure([go.Bar(x=news_articles[\"category\"].value_counts().index, y=news_articles[\"category\"].value_counts().values)])\n",
    "\n",
    "fig['layout'].update(title={\"text\" : 'Distribution of articles category-wise','y':0.9,'x':0.5,'xanchor': 'center','yanchor': 'top'}, xaxis_title=\"Category name\",yaxis_title=\"Number of articles\")\n",
    "\n",
    "fig.update_layout(width=800,height=700)\n",
    "\n",
    "fig"
   ]
  },
  {
   "cell_type": "code",
   "execution_count": 16,
   "metadata": {},
   "outputs": [
    {
     "output_type": "execute_result",
     "data": {
      "text/plain": "date\n2018-01-31    2065\n2018-02-28    1694\n2018-03-31    1778\n2018-04-30    1580\n2018-05-31    1368\nFreq: M, Name: headline, dtype: int64"
     },
     "metadata": {},
     "execution_count": 16
    }
   ],
   "source": [
    "news_articles_per_month = news_articles.resample('m',on = 'date')['headline'].count()\n",
    "\n",
    "news_articles_per_month"
   ]
  },
  {
   "cell_type": "code",
   "execution_count": 17,
   "metadata": {},
   "outputs": [
    {
     "output_type": "display_data",
     "data": {
      "application/vnd.plotly.v1+json": {
       "config": {
        "plotlyServerURL": "https://plot.ly"
       },
       "data": [
        {
         "type": "bar",
         "x": [
          "Jan",
          "Feb",
          "Mar",
          "Apr",
          "May"
         ],
         "y": [
          2065,
          1694,
          1778,
          1580,
          1368
         ]
        }
       ],
       "layout": {
        "height": 500,
        "template": {
         "data": {
          "bar": [
           {
            "error_x": {
             "color": "#2a3f5f"
            },
            "error_y": {
             "color": "#2a3f5f"
            },
            "marker": {
             "line": {
              "color": "#E5ECF6",
              "width": 0.5
             }
            },
            "type": "bar"
           }
          ],
          "barpolar": [
           {
            "marker": {
             "line": {
              "color": "#E5ECF6",
              "width": 0.5
             }
            },
            "type": "barpolar"
           }
          ],
          "carpet": [
           {
            "aaxis": {
             "endlinecolor": "#2a3f5f",
             "gridcolor": "white",
             "linecolor": "white",
             "minorgridcolor": "white",
             "startlinecolor": "#2a3f5f"
            },
            "baxis": {
             "endlinecolor": "#2a3f5f",
             "gridcolor": "white",
             "linecolor": "white",
             "minorgridcolor": "white",
             "startlinecolor": "#2a3f5f"
            },
            "type": "carpet"
           }
          ],
          "choropleth": [
           {
            "colorbar": {
             "outlinewidth": 0,
             "ticks": ""
            },
            "type": "choropleth"
           }
          ],
          "contour": [
           {
            "colorbar": {
             "outlinewidth": 0,
             "ticks": ""
            },
            "colorscale": [
             [
              0,
              "#0d0887"
             ],
             [
              0.1111111111111111,
              "#46039f"
             ],
             [
              0.2222222222222222,
              "#7201a8"
             ],
             [
              0.3333333333333333,
              "#9c179e"
             ],
             [
              0.4444444444444444,
              "#bd3786"
             ],
             [
              0.5555555555555556,
              "#d8576b"
             ],
             [
              0.6666666666666666,
              "#ed7953"
             ],
             [
              0.7777777777777778,
              "#fb9f3a"
             ],
             [
              0.8888888888888888,
              "#fdca26"
             ],
             [
              1,
              "#f0f921"
             ]
            ],
            "type": "contour"
           }
          ],
          "contourcarpet": [
           {
            "colorbar": {
             "outlinewidth": 0,
             "ticks": ""
            },
            "type": "contourcarpet"
           }
          ],
          "heatmap": [
           {
            "colorbar": {
             "outlinewidth": 0,
             "ticks": ""
            },
            "colorscale": [
             [
              0,
              "#0d0887"
             ],
             [
              0.1111111111111111,
              "#46039f"
             ],
             [
              0.2222222222222222,
              "#7201a8"
             ],
             [
              0.3333333333333333,
              "#9c179e"
             ],
             [
              0.4444444444444444,
              "#bd3786"
             ],
             [
              0.5555555555555556,
              "#d8576b"
             ],
             [
              0.6666666666666666,
              "#ed7953"
             ],
             [
              0.7777777777777778,
              "#fb9f3a"
             ],
             [
              0.8888888888888888,
              "#fdca26"
             ],
             [
              1,
              "#f0f921"
             ]
            ],
            "type": "heatmap"
           }
          ],
          "heatmapgl": [
           {
            "colorbar": {
             "outlinewidth": 0,
             "ticks": ""
            },
            "colorscale": [
             [
              0,
              "#0d0887"
             ],
             [
              0.1111111111111111,
              "#46039f"
             ],
             [
              0.2222222222222222,
              "#7201a8"
             ],
             [
              0.3333333333333333,
              "#9c179e"
             ],
             [
              0.4444444444444444,
              "#bd3786"
             ],
             [
              0.5555555555555556,
              "#d8576b"
             ],
             [
              0.6666666666666666,
              "#ed7953"
             ],
             [
              0.7777777777777778,
              "#fb9f3a"
             ],
             [
              0.8888888888888888,
              "#fdca26"
             ],
             [
              1,
              "#f0f921"
             ]
            ],
            "type": "heatmapgl"
           }
          ],
          "histogram": [
           {
            "marker": {
             "colorbar": {
              "outlinewidth": 0,
              "ticks": ""
             }
            },
            "type": "histogram"
           }
          ],
          "histogram2d": [
           {
            "colorbar": {
             "outlinewidth": 0,
             "ticks": ""
            },
            "colorscale": [
             [
              0,
              "#0d0887"
             ],
             [
              0.1111111111111111,
              "#46039f"
             ],
             [
              0.2222222222222222,
              "#7201a8"
             ],
             [
              0.3333333333333333,
              "#9c179e"
             ],
             [
              0.4444444444444444,
              "#bd3786"
             ],
             [
              0.5555555555555556,
              "#d8576b"
             ],
             [
              0.6666666666666666,
              "#ed7953"
             ],
             [
              0.7777777777777778,
              "#fb9f3a"
             ],
             [
              0.8888888888888888,
              "#fdca26"
             ],
             [
              1,
              "#f0f921"
             ]
            ],
            "type": "histogram2d"
           }
          ],
          "histogram2dcontour": [
           {
            "colorbar": {
             "outlinewidth": 0,
             "ticks": ""
            },
            "colorscale": [
             [
              0,
              "#0d0887"
             ],
             [
              0.1111111111111111,
              "#46039f"
             ],
             [
              0.2222222222222222,
              "#7201a8"
             ],
             [
              0.3333333333333333,
              "#9c179e"
             ],
             [
              0.4444444444444444,
              "#bd3786"
             ],
             [
              0.5555555555555556,
              "#d8576b"
             ],
             [
              0.6666666666666666,
              "#ed7953"
             ],
             [
              0.7777777777777778,
              "#fb9f3a"
             ],
             [
              0.8888888888888888,
              "#fdca26"
             ],
             [
              1,
              "#f0f921"
             ]
            ],
            "type": "histogram2dcontour"
           }
          ],
          "mesh3d": [
           {
            "colorbar": {
             "outlinewidth": 0,
             "ticks": ""
            },
            "type": "mesh3d"
           }
          ],
          "parcoords": [
           {
            "line": {
             "colorbar": {
              "outlinewidth": 0,
              "ticks": ""
             }
            },
            "type": "parcoords"
           }
          ],
          "pie": [
           {
            "automargin": true,
            "type": "pie"
           }
          ],
          "scatter": [
           {
            "marker": {
             "colorbar": {
              "outlinewidth": 0,
              "ticks": ""
             }
            },
            "type": "scatter"
           }
          ],
          "scatter3d": [
           {
            "line": {
             "colorbar": {
              "outlinewidth": 0,
              "ticks": ""
             }
            },
            "marker": {
             "colorbar": {
              "outlinewidth": 0,
              "ticks": ""
             }
            },
            "type": "scatter3d"
           }
          ],
          "scattercarpet": [
           {
            "marker": {
             "colorbar": {
              "outlinewidth": 0,
              "ticks": ""
             }
            },
            "type": "scattercarpet"
           }
          ],
          "scattergeo": [
           {
            "marker": {
             "colorbar": {
              "outlinewidth": 0,
              "ticks": ""
             }
            },
            "type": "scattergeo"
           }
          ],
          "scattergl": [
           {
            "marker": {
             "colorbar": {
              "outlinewidth": 0,
              "ticks": ""
             }
            },
            "type": "scattergl"
           }
          ],
          "scattermapbox": [
           {
            "marker": {
             "colorbar": {
              "outlinewidth": 0,
              "ticks": ""
             }
            },
            "type": "scattermapbox"
           }
          ],
          "scatterpolar": [
           {
            "marker": {
             "colorbar": {
              "outlinewidth": 0,
              "ticks": ""
             }
            },
            "type": "scatterpolar"
           }
          ],
          "scatterpolargl": [
           {
            "marker": {
             "colorbar": {
              "outlinewidth": 0,
              "ticks": ""
             }
            },
            "type": "scatterpolargl"
           }
          ],
          "scatterternary": [
           {
            "marker": {
             "colorbar": {
              "outlinewidth": 0,
              "ticks": ""
             }
            },
            "type": "scatterternary"
           }
          ],
          "surface": [
           {
            "colorbar": {
             "outlinewidth": 0,
             "ticks": ""
            },
            "colorscale": [
             [
              0,
              "#0d0887"
             ],
             [
              0.1111111111111111,
              "#46039f"
             ],
             [
              0.2222222222222222,
              "#7201a8"
             ],
             [
              0.3333333333333333,
              "#9c179e"
             ],
             [
              0.4444444444444444,
              "#bd3786"
             ],
             [
              0.5555555555555556,
              "#d8576b"
             ],
             [
              0.6666666666666666,
              "#ed7953"
             ],
             [
              0.7777777777777778,
              "#fb9f3a"
             ],
             [
              0.8888888888888888,
              "#fdca26"
             ],
             [
              1,
              "#f0f921"
             ]
            ],
            "type": "surface"
           }
          ],
          "table": [
           {
            "cells": {
             "fill": {
              "color": "#EBF0F8"
             },
             "line": {
              "color": "white"
             }
            },
            "header": {
             "fill": {
              "color": "#C8D4E3"
             },
             "line": {
              "color": "white"
             }
            },
            "type": "table"
           }
          ]
         },
         "layout": {
          "annotationdefaults": {
           "arrowcolor": "#2a3f5f",
           "arrowhead": 0,
           "arrowwidth": 1
          },
          "coloraxis": {
           "colorbar": {
            "outlinewidth": 0,
            "ticks": ""
           }
          },
          "colorscale": {
           "diverging": [
            [
             0,
             "#8e0152"
            ],
            [
             0.1,
             "#c51b7d"
            ],
            [
             0.2,
             "#de77ae"
            ],
            [
             0.3,
             "#f1b6da"
            ],
            [
             0.4,
             "#fde0ef"
            ],
            [
             0.5,
             "#f7f7f7"
            ],
            [
             0.6,
             "#e6f5d0"
            ],
            [
             0.7,
             "#b8e186"
            ],
            [
             0.8,
             "#7fbc41"
            ],
            [
             0.9,
             "#4d9221"
            ],
            [
             1,
             "#276419"
            ]
           ],
           "sequential": [
            [
             0,
             "#0d0887"
            ],
            [
             0.1111111111111111,
             "#46039f"
            ],
            [
             0.2222222222222222,
             "#7201a8"
            ],
            [
             0.3333333333333333,
             "#9c179e"
            ],
            [
             0.4444444444444444,
             "#bd3786"
            ],
            [
             0.5555555555555556,
             "#d8576b"
            ],
            [
             0.6666666666666666,
             "#ed7953"
            ],
            [
             0.7777777777777778,
             "#fb9f3a"
            ],
            [
             0.8888888888888888,
             "#fdca26"
            ],
            [
             1,
             "#f0f921"
            ]
           ],
           "sequentialminus": [
            [
             0,
             "#0d0887"
            ],
            [
             0.1111111111111111,
             "#46039f"
            ],
            [
             0.2222222222222222,
             "#7201a8"
            ],
            [
             0.3333333333333333,
             "#9c179e"
            ],
            [
             0.4444444444444444,
             "#bd3786"
            ],
            [
             0.5555555555555556,
             "#d8576b"
            ],
            [
             0.6666666666666666,
             "#ed7953"
            ],
            [
             0.7777777777777778,
             "#fb9f3a"
            ],
            [
             0.8888888888888888,
             "#fdca26"
            ],
            [
             1,
             "#f0f921"
            ]
           ]
          },
          "colorway": [
           "#636efa",
           "#EF553B",
           "#00cc96",
           "#ab63fa",
           "#FFA15A",
           "#19d3f3",
           "#FF6692",
           "#B6E880",
           "#FF97FF",
           "#FECB52"
          ],
          "font": {
           "color": "#2a3f5f"
          },
          "geo": {
           "bgcolor": "white",
           "lakecolor": "white",
           "landcolor": "#E5ECF6",
           "showlakes": true,
           "showland": true,
           "subunitcolor": "white"
          },
          "hoverlabel": {
           "align": "left"
          },
          "hovermode": "closest",
          "mapbox": {
           "style": "light"
          },
          "paper_bgcolor": "white",
          "plot_bgcolor": "#E5ECF6",
          "polar": {
           "angularaxis": {
            "gridcolor": "white",
            "linecolor": "white",
            "ticks": ""
           },
           "bgcolor": "#E5ECF6",
           "radialaxis": {
            "gridcolor": "white",
            "linecolor": "white",
            "ticks": ""
           }
          },
          "scene": {
           "xaxis": {
            "backgroundcolor": "#E5ECF6",
            "gridcolor": "white",
            "gridwidth": 2,
            "linecolor": "white",
            "showbackground": true,
            "ticks": "",
            "zerolinecolor": "white"
           },
           "yaxis": {
            "backgroundcolor": "#E5ECF6",
            "gridcolor": "white",
            "gridwidth": 2,
            "linecolor": "white",
            "showbackground": true,
            "ticks": "",
            "zerolinecolor": "white"
           },
           "zaxis": {
            "backgroundcolor": "#E5ECF6",
            "gridcolor": "white",
            "gridwidth": 2,
            "linecolor": "white",
            "showbackground": true,
            "ticks": "",
            "zerolinecolor": "white"
           }
          },
          "shapedefaults": {
           "line": {
            "color": "#2a3f5f"
           }
          },
          "ternary": {
           "aaxis": {
            "gridcolor": "white",
            "linecolor": "white",
            "ticks": ""
           },
           "baxis": {
            "gridcolor": "white",
            "linecolor": "white",
            "ticks": ""
           },
           "bgcolor": "#E5ECF6",
           "caxis": {
            "gridcolor": "white",
            "linecolor": "white",
            "ticks": ""
           }
          },
          "title": {
           "x": 0.05
          },
          "xaxis": {
           "automargin": true,
           "gridcolor": "white",
           "linecolor": "white",
           "ticks": "",
           "title": {
            "standoff": 15
           },
           "zerolinecolor": "white",
           "zerolinewidth": 2
          },
          "yaxis": {
           "automargin": true,
           "gridcolor": "white",
           "linecolor": "white",
           "ticks": "",
           "title": {
            "standoff": 15
           },
           "zerolinecolor": "white",
           "zerolinewidth": 2
          }
         }
        },
        "title": {
         "text": "Distribution of articles month-wise",
         "x": 0.5,
         "xanchor": "center",
         "y": 0.9,
         "yanchor": "top"
        },
        "width": 500,
        "xaxis": {
         "title": {
          "text": "Month"
         }
        },
        "yaxis": {
         "title": {
          "text": "Number of articles"
         }
        }
       }
      }
     },
     "metadata": {}
    }
   ],
   "source": [
    "fig = go.Figure([go.Bar(x=news_articles_per_month.index.strftime(\"%b\"), y=news_articles_per_month)])\n",
    "\n",
    "fig['layout'].update(title={\"text\" : 'Distribution of articles month-wise','y':0.9,'x':0.5,'xanchor': 'center','yanchor': 'top'}, xaxis_title=\"Month\",yaxis_title=\"Number of articles\")\n",
    "\n",
    "fig.update_layout(width=500,height=500)\n",
    "\n",
    "fig"
   ]
  },
  {
   "cell_type": "code",
   "execution_count": 19,
   "metadata": {},
   "outputs": [
    {
     "output_type": "display_data",
     "data": {
      "application/vnd.plotly.v1+json": {
       "config": {
        "plotlyServerURL": "https://plot.ly"
       },
       "data": [
        {
         "legendgroup": "ht",
         "marker": {
          "color": "rgb(31, 119, 180)"
         },
         "mode": "lines",
         "name": "ht",
         "showlegend": true,
         "type": "scatter",
         "x": [
          25,
          25.21,
          25.42,
          25.63,
          25.84,
          26.05,
          26.26,
          26.47,
          26.68,
          26.89,
          27.1,
          27.31,
          27.52,
          27.73,
          27.94,
          28.15,
          28.36,
          28.57,
          28.78,
          28.990000000000002,
          29.2,
          29.41,
          29.62,
          29.83,
          30.04,
          30.25,
          30.46,
          30.67,
          30.88,
          31.09,
          31.3,
          31.509999999999998,
          31.72,
          31.93,
          32.14,
          32.35,
          32.56,
          32.769999999999996,
          32.980000000000004,
          33.19,
          33.4,
          33.61,
          33.82,
          34.03,
          34.24,
          34.45,
          34.66,
          34.87,
          35.08,
          35.29,
          35.5,
          35.71,
          35.92,
          36.13,
          36.34,
          36.55,
          36.76,
          36.97,
          37.18,
          37.39,
          37.6,
          37.81,
          38.019999999999996,
          38.230000000000004,
          38.44,
          38.65,
          38.86,
          39.07,
          39.28,
          39.49,
          39.7,
          39.91,
          40.12,
          40.33,
          40.54,
          40.75,
          40.96,
          41.17,
          41.379999999999995,
          41.59,
          41.8,
          42.010000000000005,
          42.22,
          42.43,
          42.64,
          42.85,
          43.06,
          43.269999999999996,
          43.480000000000004,
          43.69,
          43.9,
          44.11,
          44.32,
          44.53,
          44.739999999999995,
          44.95,
          45.16,
          45.370000000000005,
          45.58,
          45.79,
          46,
          46.21,
          46.42,
          46.629999999999995,
          46.84,
          47.05,
          47.260000000000005,
          47.47,
          47.68,
          47.89,
          48.1,
          48.31,
          48.519999999999996,
          48.730000000000004,
          48.94,
          49.15,
          49.36,
          49.57,
          49.78,
          49.989999999999995,
          50.2,
          50.41,
          50.620000000000005,
          50.83,
          51.04,
          51.25,
          51.46,
          51.67,
          51.879999999999995,
          52.09,
          52.3,
          52.510000000000005,
          52.72,
          52.93,
          53.14,
          53.35,
          53.56,
          53.769999999999996,
          53.980000000000004,
          54.19,
          54.4,
          54.61,
          54.82,
          55.03,
          55.239999999999995,
          55.45,
          55.66,
          55.870000000000005,
          56.08,
          56.29,
          56.5,
          56.71,
          56.92,
          57.13,
          57.34,
          57.55,
          57.76,
          57.97,
          58.18,
          58.39,
          58.6,
          58.81,
          59.02,
          59.23,
          59.44,
          59.65,
          59.86,
          60.07,
          60.28,
          60.49,
          60.7,
          60.91,
          61.12,
          61.33,
          61.54,
          61.75,
          61.96,
          62.17,
          62.38,
          62.59,
          62.8,
          63.01,
          63.22,
          63.43,
          63.64,
          63.85,
          64.06,
          64.27000000000001,
          64.47999999999999,
          64.69,
          64.9,
          65.11,
          65.32,
          65.53,
          65.74000000000001,
          65.95,
          66.16,
          66.37,
          66.58,
          66.78999999999999,
          67,
          67.21000000000001,
          67.42,
          67.63,
          67.84,
          68.05,
          68.25999999999999,
          68.47,
          68.68,
          68.89,
          69.1,
          69.31,
          69.52000000000001,
          69.72999999999999,
          69.94,
          70.15,
          70.36,
          70.57,
          70.78,
          70.99000000000001,
          71.2,
          71.41,
          71.62,
          71.83,
          72.03999999999999,
          72.25,
          72.46000000000001,
          72.67,
          72.88,
          73.09,
          73.3,
          73.50999999999999,
          73.72,
          73.93,
          74.14,
          74.35,
          74.56,
          74.77000000000001,
          74.97999999999999,
          75.19,
          75.4,
          75.61,
          75.82,
          76.03,
          76.24000000000001,
          76.45,
          76.66,
          76.87,
          77.08,
          77.28999999999999,
          77.5,
          77.71000000000001,
          77.92,
          78.13,
          78.34,
          78.55,
          78.75999999999999,
          78.97,
          79.18,
          79.39,
          79.6,
          79.81,
          80.02000000000001,
          80.22999999999999,
          80.44,
          80.65,
          80.86,
          81.07,
          81.28,
          81.49000000000001,
          81.7,
          81.91,
          82.12,
          82.33,
          82.53999999999999,
          82.75,
          82.96000000000001,
          83.17,
          83.38,
          83.59,
          83.8,
          84.00999999999999,
          84.22,
          84.43,
          84.64,
          84.85,
          85.06,
          85.27000000000001,
          85.47999999999999,
          85.69,
          85.9,
          86.11,
          86.32,
          86.53,
          86.74000000000001,
          86.95,
          87.16,
          87.37,
          87.58,
          87.78999999999999,
          88,
          88.21000000000001,
          88.42,
          88.63,
          88.84,
          89.05,
          89.26,
          89.47,
          89.68,
          89.89,
          90.1,
          90.31,
          90.52,
          90.73,
          90.94,
          91.15,
          91.36,
          91.57,
          91.78,
          91.99,
          92.2,
          92.41,
          92.62,
          92.83,
          93.04,
          93.25,
          93.46,
          93.67,
          93.88,
          94.09,
          94.3,
          94.51,
          94.72,
          94.93,
          95.14,
          95.35,
          95.56,
          95.77,
          95.98,
          96.19,
          96.4,
          96.61,
          96.82,
          97.03,
          97.24,
          97.45,
          97.66,
          97.87,
          98.08,
          98.29,
          98.5,
          98.71,
          98.92,
          99.13,
          99.34,
          99.55,
          99.76,
          99.97,
          100.18,
          100.39,
          100.6,
          100.81,
          101.02,
          101.23,
          101.44,
          101.65,
          101.86,
          102.07,
          102.28,
          102.49,
          102.7,
          102.91,
          103.12,
          103.33,
          103.54,
          103.75,
          103.96,
          104.17,
          104.38,
          104.59,
          104.8,
          105.01,
          105.22,
          105.43,
          105.64,
          105.85,
          106.06,
          106.27,
          106.48,
          106.69,
          106.9,
          107.11,
          107.32,
          107.53,
          107.74,
          107.95,
          108.16,
          108.37,
          108.58,
          108.79,
          109,
          109.21,
          109.42,
          109.63,
          109.84,
          110.05,
          110.26,
          110.47,
          110.68,
          110.89,
          111.1,
          111.31,
          111.52,
          111.73,
          111.94,
          112.15,
          112.36,
          112.57,
          112.78,
          112.99,
          113.2,
          113.41,
          113.62,
          113.83,
          114.04,
          114.25,
          114.46,
          114.67,
          114.88,
          115.09,
          115.3,
          115.51,
          115.72,
          115.93,
          116.14,
          116.35,
          116.56,
          116.77,
          116.98,
          117.19,
          117.4,
          117.61,
          117.82,
          118.03,
          118.24,
          118.45,
          118.66,
          118.87,
          119.08,
          119.29,
          119.5,
          119.71,
          119.92,
          120.13,
          120.34,
          120.55,
          120.76,
          120.97,
          121.18,
          121.39,
          121.6,
          121.81,
          122.02,
          122.23,
          122.44,
          122.65,
          122.86,
          123.07,
          123.28,
          123.49,
          123.7,
          123.91,
          124.12,
          124.33,
          124.54,
          124.75,
          124.96,
          125.17,
          125.38,
          125.59,
          125.8,
          126.01,
          126.22,
          126.43,
          126.64,
          126.85,
          127.06,
          127.27,
          127.48,
          127.69,
          127.9,
          128.11,
          128.32,
          128.53,
          128.74,
          128.95,
          129.16,
          129.37,
          129.57999999999998,
          129.79000000000002
         ],
         "xaxis": "x",
         "y": [
          0.00009761758669784213,
          0.00010325831164921099,
          0.00010843298459129319,
          0.00011313553202672727,
          0.00011739554705294587,
          0.00012127819250782847,
          0.0001248816091275755,
          0.00012833195525104214,
          0.000131776431890148,
          0.00013537484897998604,
          0.00013929044182645807,
          0.00014368073236925108,
          0.00014868923626863332,
          0.0001544387412644793,
          0.00016102673140292535,
          0.00016852332096544401,
          0.00017697181358664388,
          0.0001863917426952979,
          0.0001967840067269586,
          0.0002081375120278087,
          0.0002204365983984989,
          0.00023366845992195284,
          0.00024782979166326996,
          0.0002629319869246316,
          0.00027900436808591165,
          0.00029609513870774474,
          0.0003142699738284915,
          0.00033360839639010536,
          0.0003541982989159287,
          0.00037612914273380015,
          0.00039948448880553156,
          0.0004243345767575595,
          0.0004507296697575681,
          0.00047869482521141645,
          0.0005082266416629183,
          0.0005392923804376618,
          0.0005718316778924331,
          0.0006057608628306203,
          0.0006409796861002988,
          0.0006773800678026519,
          0.000714856283794195,
          0.0007533158588123271,
          0.0007926903196818823,
          0.0008329448989887268,
          0.0008740862762707757,
          0.0009161675068253666,
          0.0009592894209217611,
          0.001003597977262212,
          0.0010492773171879278,
          0.00109653857756883,
          0.0011456048617448982,
          0.0011966931152622192,
          0.0012499939786775143,
          0.0013056509639736607,
          0.0013637404956690032,
          0.0014242544477831797,
          0.0014870867751478568,
          0.0015520256726165283,
          0.0016187523995630367,
          0.0016868474921832924,
          0.001755804576563202,
          0.0018250514258213713,
          0.0018939773179972494,
          0.0019619651964370532,
          0.002028426661705343,
          0.0020928374813028107,
          0.002154771130992941,
          0.002213927907407209,
          0.0022701573875331085,
          0.002323472449087536,
          0.002374053678455382,
          0.002422243731984748,
          0.002468532017805131,
          0.0025135308541624247,
          0.0025579449587034044,
          0.0026025366590684195,
          0.0026480895309619694,
          0.002695373230119138,
          0.0027451120812465087,
          0.0027979595414514375,
          0.0028544800167908855,
          0.0029151387492409135,
          0.002980299691789073,
          0.0030502305384277665,
          0.003125113452383847,
          0.0032050596009841337,
          0.0032901253954067382,
          0.0033803283564295982,
          0.0034756607640522366,
          0.0035760996575330095,
          0.0036816122753240564,
          0.0037921565971155476,
          0.00390767721018533,
          0.004028097216372368,
          0.004153307285671966,
          0.004283153225892824,
          0.004417423569427551,
          0.004555838685686469,
          0.0046980428278152716,
          0.004843600335852923,
          0.004991996966339559,
          0.005142647018395634,
          0.00529490659197093,
          0.005448092954861861,
          0.005601509618588829,
          0.0057544763370901255,
          0.0059063628573417576,
          0.006056624883658123,
          0.0062048403900615634,
          0.006350744155946929,
          0.006494258241045013,
          0.006635516087953942,
          0.00677487807092594,
          0.00691293661493091,
          0.007050509491608968,
          0.0071886205433079635,
          0.007328467858932205,
          0.00747138027426758,
          0.0076187639295710674,
          0.007772041415647674,
          0.007932586703422565,
          0.008101659516219634,
          0.008280343019261577,
          0.00846948863955689,
          0.008669671488645664,
          0.00888115926350931,
          0.009103896693224567,
          0.009337506644419919,
          0.009581307971816796,
          0.009834349178494904,
          0.010095456006559388,
          0.010363290273910303,
          0.010636416652497607,
          0.010913373675907508,
          0.011192745080378584,
          0.011473227619748632,
          0.01175369173674004,
          0.012033231898754935,
          0.012311203990691562,
          0.01258724787338952,
          0.012861294036193875,
          0.013133554165455384,
          0.013404496382548743,
          0.013674806832988256,
          0.01394534018145866,
          0.014217062326596941,
          0.01449098922929828,
          0.01476812608491234,
          0.015049411107787469,
          0.015335667900042671,
          0.015627569737537983,
          0.01592561815283594,
          0.016230136994228005,
          0.016541281794396054,
          0.01685906292196738,
          0.01718337975698376,
          0.017514062164769452,
          0.01785091495490541,
          0.018193760874126698,
          0.01854247801086286,
          0.01889702824275595,
          0.019257474439761984,
          0.01962398540498907,
          0.019996828831073166,
          0.020376353710116788,
          0.02076296452270048,
          0.02115709005291841,
          0.021559149795210262,
          0.021969520658673754,
          0.022388506113397016,
          0.02281630917847915,
          0.023253009859076367,
          0.02369854693237772,
          0.024152703467159573,
          0.02461509520468612,
          0.025085160947010545,
          0.02556215436005777,
          0.026045137030872016,
          0.026532973123543694,
          0.02702432645220494,
          0.027517661139171385,
          0.02801124718531895,
          0.02850317221730042,
          0.02899136039936712,
          0.029473599046849933,
          0.02994757291758172,
          0.030410905560711028,
          0.030861206540216013,
          0.031296122879416806,
          0.03171339272826883,
          0.03211089905005894,
          0.032486721052225956,
          0.03283918112957732,
          0.03316688522641145,
          0.033468754741167714,
          0.03374404838726986,
          0.03399237279136028,
          0.03421368106624735,
          0.03440825915069343,
          0.03457670036141293,
          0.034719869335134323,
          0.034838857306742015,
          0.03493493140502996,
          0.03500948126300702,
          0.03506396663960632,
          0.03509986984600508,
          0.0351186564985518,
          0.035121747456738635,
          0.03511050377380059,
          0.03508622516799525,
          0.03505016104214991,
          0.03500353160186729,
          0.03494755533007563,
          0.03488347814182766,
          0.03481259911120055,
          0.034736287820742194,
          0.03465598915191426,
          0.03457321265351089,
          0.034489505360427455,
          0.03440640889251272,
          0.034325403609304035,
          0.03424784428914462,
          0.03417489302194897,
          0.034107455589238445,
          0.03404612746690162,
          0.03399115473179587,
          0.03394241368298545,
          0.03389941108406641,
          0.033861304834225156,
          0.03382694284662412,
          0.033794916205301395,
          0.03376362149020044,
          0.03373132663232513,
          0.03369623482243932,
          0.03365654178638745,
          0.03361048301286216,
          0.03355636906990357,
          0.033492608741665486,
          0.033417721132612016,
          0.03333033894003941,
          0.033229205673496014,
          0.0331131696696209,
          0.032981177364711664,
          0.03283226756715939,
          0.03266556758696509,
          0.03248029121557321,
          0.03227573787612207,
          0.03205129190723144,
          0.03180642096275049,
          0.03154067289115713,
          0.0312536711162129,
          0.030945109334100402,
          0.030614747099714783,
          0.03026240842306133,
          0.029887985691917845,
          0.029491450989889874,
          0.02907287617237718,
          0.028632461957088406,
          0.028170574912188905,
          0.027687789769248308,
          0.027184933162671655,
          0.026663123911576644,
          0.026123804488813938,
          0.025568758478219107,
          0.025000109638348113,
          0.0244202996142578,
          0.02383204323049349,
          0.023238262453392985,
          0.02264200228264677,
          0.022046333764415744,
          0.021454250778175494,
          0.02086856805749345,
          0.020291827958758467,
          0.019726222779095314,
          0.019173538024080238,
          0.018635120096617632,
          0.018111869639059565,
          0.017604259461319296,
          0.0171123738783863,
          0.0166359645812617,
          0.016174517040705483,
          0.015727320985906013,
          0.01529353872339741,
          0.014872265901822921,
          0.014462580657378894,
          0.014063578718992024,
          0.013674393814412487,
          0.013294204402022575,
          0.012922229184205335,
          0.012557714902304243,
          0.012199920487473224,
          0.011848101719050486,
          0.01150150014980254,
          0.011159339269712945,
          0.010820829806407566,
          0.010485184831237985,
          0.010151644091769569,
          0.009819505851874672,
          0.009488163597470154,
          0.009157144337846507,
          0.008826144944319953,
          0.008495063029400233,
          0.008164019257937803,
          0.007833368646307655,
          0.00750369927544615,
          0.0071758178345762424,
          0.006850722436117663,
          0.006529564112763891,
          0.006213599248450569,
          0.005904135843798518,
          0.005602476929538284,
          0.005309864594709189,
          0.005027427987457314,
          0.004756138292900874,
          0.004496773131135157,
          0.004249892100583147,
          0.004015824379964542,
          0.003794668464052692,
          0.003586303311658611,
          0.0033904094901321467,
          0.0032064983585363793,
          0.0030339469748069795,
          0.002872036255054798,
          0.0027199899505456235,
          0.0025770122165797685,
          0.002442321889809455,
          0.0023151820195234894,
          0.002194923664065925,
          0.002080963418988866,
          0.00197281455060632,
          0.0018700919417583282,
          0.0017725113046804858,
          0.001679883281690669,
          0.001592103151989209,
          0.001509136913218503,
          0.0014310045323554673,
          0.001357761181606246,
          0.0012894773035462609,
          0.0012262183884862682,
          0.0011680253887523036,
          0.0011148967240168157,
          0.0010667728292998273,
          0.0010235241431301488,
          0.0009849433127080232,
          0.0009507421994354606,
          0.0009205540065175133,
          0.0008939405364246951,
          0.0008704042453885025,
          0.0008494044264998879,
          0.0008303765557562897,
          0.0008127536067378986,
          0.0007959880022272285,
          0.0007795728373271684,
          0.0007630610790948538,
          0.0007460816118815378,
          0.0007283512360024424,
          0.0007096820149666277,
          0.0006899836763023682,
          0.0006692610776881212,
          0.0006476070326815703,
          0.0006251910337996202,
          0.0006022446062442181,
          0.0005790441698250858,
          0.0005558923801139241,
          0.0005330989651360292,
          0.0005109620739265173,
          0.0004897511103212784,
          0.0004696919406688834,
          0.00045095523841434123,
          0.0004336485628647669,
          0.00041781256686355256,
          0.00040342149463071264,
          0.0003903878766785312,
          0.0003785710676039569,
          0.0003677890222683079,
          0.000357832485979891,
          0.0003484806043063464,
          0.00033951685511541245,
          0.0003307441816369013,
          0.0003219982663137073,
          0.00031315802865766035,
          0.00030415264586637863,
          0.0002949646649582696,
          0.00028562907652152693,
          0.00027622852670533137,
          0.0002668851294829007,
          0.00025774958180250216,
          0.00024898846138829265,
          0.0002407706887933599,
          0.00023325415753354213,
          0.00022657348182764157,
          0.00022082969010333515,
          0.0002160825182025262,
          0.00021234574611184916,
          0.00020958579383335957,
          0.00020772356259108322,
          0.00020663929173416837,
          0.00020618001147839021,
          0.00020616901614971912,
          0.00020641666830967275,
          0.0002067317752547916,
          0.00020693275824884954,
          0.0002068578622038713,
          0.00020637372845135486,
          0.00020538177285252927,
          0.00020382197047437553,
          0.00020167383821166244,
          0.00019895461673475319,
          0.00019571486866377415,
          0.00019203191425218246,
          0.00018800170132821054,
          0.00018372983559342037,
          0.00017932256599836435,
          0.0001748785178094977,
          0.00017048188952760806,
          0.00016619768293563885,
          0.00016206933002503696,
          0.00015811883534701596,
          0.00015434929194561294,
          0.000150749380917076,
          0.0001472992561292681,
          0.0001439770706040585,
          0.00014076533689631474,
          0.00013765633901229298,
          0.00013465592632291452,
          0.00013178520860665833,
          0.00012907991483957648,
          0.00012658744905577637,
          0.00012436194361298622,
          0.0001224578429895676,
          0.00012092272337107182,
          0.00011979014557421565,
          0.00011907334162947704,
          0.0001187604494775809,
          0.00011881184688309112,
          0.00011915991472134363,
          0.00011971130730353331,
          0.00012035155230739861,
          0.00012095157346921195,
          0.00012137554976341166,
          0.00012148941290546431,
          0.00012116924966130136,
          0.00012030891639003092,
          0.00011882628149137471,
          0.0001166676707928952,
          0.00011381028041287312,
          0.00011026251835882498,
          0.00010606241816603057,
          0.0001012744169741672,
          0.00009598489390850042,
          0.00009029691647679634,
          0.00008432464370171436,
          0.00007818779165261036,
          0.00007200649115269522,
          0.00006589677244719061,
          0.00005996681167179182,
          0.00005431398173119906,
          0.00004902267543072439,
          0.00004416281735300484,
          0.00003978895496053217,
          0.00003593981696316503,
          0.000032638243429310666,
          0.000029891420870576294,
          0.00002769138926443687,
          0.000026015819659715522,
          0.000024829084747520724,
          0.000024083656444045944,
          0.000023721862075966838,
          0.00002367801429032213,
          0.000023880901419585163,
          0.000024256588437258223,
          0.000024731438684004613,
          0.000025235228603752334,
          0.00002570419707135937,
          0.00002608385205999887,
          0.00002633135366333865,
          0.000026417305467678382,
          0.00002632681570854111,
          0.000026059733445391758,
          0.000025630019450378103,
          0.00002506427178100786,
          0.000024399486661652852,
          0.00002368019094674083,
          0.000022955128313723494,
          0.00002227371374971389,
          0.000021682487525219895,
          0.000021221799811869416,
          0.00002092294087816002,
          0.000020805901013436453,
          0.00002087790147978193,
          0.000021132785959737766,
          0.000021551304597523966,
          0.000022102263451051488,
          0.0000227444546752412,
          0.0000234292307027276,
          0.000024103542578252983,
          0.00002471323160799352,
          0.000025206347199808904,
          0.00002553626392210654,
          0.000025664387958778042
         ],
         "yaxis": "y"
        }
       ],
       "layout": {
        "barmode": "overlay",
        "height": 500,
        "hovermode": "closest",
        "legend": {
         "traceorder": "reversed"
        },
        "showlegend": false,
        "template": {
         "data": {
          "bar": [
           {
            "error_x": {
             "color": "#2a3f5f"
            },
            "error_y": {
             "color": "#2a3f5f"
            },
            "marker": {
             "line": {
              "color": "#E5ECF6",
              "width": 0.5
             }
            },
            "type": "bar"
           }
          ],
          "barpolar": [
           {
            "marker": {
             "line": {
              "color": "#E5ECF6",
              "width": 0.5
             }
            },
            "type": "barpolar"
           }
          ],
          "carpet": [
           {
            "aaxis": {
             "endlinecolor": "#2a3f5f",
             "gridcolor": "white",
             "linecolor": "white",
             "minorgridcolor": "white",
             "startlinecolor": "#2a3f5f"
            },
            "baxis": {
             "endlinecolor": "#2a3f5f",
             "gridcolor": "white",
             "linecolor": "white",
             "minorgridcolor": "white",
             "startlinecolor": "#2a3f5f"
            },
            "type": "carpet"
           }
          ],
          "choropleth": [
           {
            "colorbar": {
             "outlinewidth": 0,
             "ticks": ""
            },
            "type": "choropleth"
           }
          ],
          "contour": [
           {
            "colorbar": {
             "outlinewidth": 0,
             "ticks": ""
            },
            "colorscale": [
             [
              0,
              "#0d0887"
             ],
             [
              0.1111111111111111,
              "#46039f"
             ],
             [
              0.2222222222222222,
              "#7201a8"
             ],
             [
              0.3333333333333333,
              "#9c179e"
             ],
             [
              0.4444444444444444,
              "#bd3786"
             ],
             [
              0.5555555555555556,
              "#d8576b"
             ],
             [
              0.6666666666666666,
              "#ed7953"
             ],
             [
              0.7777777777777778,
              "#fb9f3a"
             ],
             [
              0.8888888888888888,
              "#fdca26"
             ],
             [
              1,
              "#f0f921"
             ]
            ],
            "type": "contour"
           }
          ],
          "contourcarpet": [
           {
            "colorbar": {
             "outlinewidth": 0,
             "ticks": ""
            },
            "type": "contourcarpet"
           }
          ],
          "heatmap": [
           {
            "colorbar": {
             "outlinewidth": 0,
             "ticks": ""
            },
            "colorscale": [
             [
              0,
              "#0d0887"
             ],
             [
              0.1111111111111111,
              "#46039f"
             ],
             [
              0.2222222222222222,
              "#7201a8"
             ],
             [
              0.3333333333333333,
              "#9c179e"
             ],
             [
              0.4444444444444444,
              "#bd3786"
             ],
             [
              0.5555555555555556,
              "#d8576b"
             ],
             [
              0.6666666666666666,
              "#ed7953"
             ],
             [
              0.7777777777777778,
              "#fb9f3a"
             ],
             [
              0.8888888888888888,
              "#fdca26"
             ],
             [
              1,
              "#f0f921"
             ]
            ],
            "type": "heatmap"
           }
          ],
          "heatmapgl": [
           {
            "colorbar": {
             "outlinewidth": 0,
             "ticks": ""
            },
            "colorscale": [
             [
              0,
              "#0d0887"
             ],
             [
              0.1111111111111111,
              "#46039f"
             ],
             [
              0.2222222222222222,
              "#7201a8"
             ],
             [
              0.3333333333333333,
              "#9c179e"
             ],
             [
              0.4444444444444444,
              "#bd3786"
             ],
             [
              0.5555555555555556,
              "#d8576b"
             ],
             [
              0.6666666666666666,
              "#ed7953"
             ],
             [
              0.7777777777777778,
              "#fb9f3a"
             ],
             [
              0.8888888888888888,
              "#fdca26"
             ],
             [
              1,
              "#f0f921"
             ]
            ],
            "type": "heatmapgl"
           }
          ],
          "histogram": [
           {
            "marker": {
             "colorbar": {
              "outlinewidth": 0,
              "ticks": ""
             }
            },
            "type": "histogram"
           }
          ],
          "histogram2d": [
           {
            "colorbar": {
             "outlinewidth": 0,
             "ticks": ""
            },
            "colorscale": [
             [
              0,
              "#0d0887"
             ],
             [
              0.1111111111111111,
              "#46039f"
             ],
             [
              0.2222222222222222,
              "#7201a8"
             ],
             [
              0.3333333333333333,
              "#9c179e"
             ],
             [
              0.4444444444444444,
              "#bd3786"
             ],
             [
              0.5555555555555556,
              "#d8576b"
             ],
             [
              0.6666666666666666,
              "#ed7953"
             ],
             [
              0.7777777777777778,
              "#fb9f3a"
             ],
             [
              0.8888888888888888,
              "#fdca26"
             ],
             [
              1,
              "#f0f921"
             ]
            ],
            "type": "histogram2d"
           }
          ],
          "histogram2dcontour": [
           {
            "colorbar": {
             "outlinewidth": 0,
             "ticks": ""
            },
            "colorscale": [
             [
              0,
              "#0d0887"
             ],
             [
              0.1111111111111111,
              "#46039f"
             ],
             [
              0.2222222222222222,
              "#7201a8"
             ],
             [
              0.3333333333333333,
              "#9c179e"
             ],
             [
              0.4444444444444444,
              "#bd3786"
             ],
             [
              0.5555555555555556,
              "#d8576b"
             ],
             [
              0.6666666666666666,
              "#ed7953"
             ],
             [
              0.7777777777777778,
              "#fb9f3a"
             ],
             [
              0.8888888888888888,
              "#fdca26"
             ],
             [
              1,
              "#f0f921"
             ]
            ],
            "type": "histogram2dcontour"
           }
          ],
          "mesh3d": [
           {
            "colorbar": {
             "outlinewidth": 0,
             "ticks": ""
            },
            "type": "mesh3d"
           }
          ],
          "parcoords": [
           {
            "line": {
             "colorbar": {
              "outlinewidth": 0,
              "ticks": ""
             }
            },
            "type": "parcoords"
           }
          ],
          "pie": [
           {
            "automargin": true,
            "type": "pie"
           }
          ],
          "scatter": [
           {
            "marker": {
             "colorbar": {
              "outlinewidth": 0,
              "ticks": ""
             }
            },
            "type": "scatter"
           }
          ],
          "scatter3d": [
           {
            "line": {
             "colorbar": {
              "outlinewidth": 0,
              "ticks": ""
             }
            },
            "marker": {
             "colorbar": {
              "outlinewidth": 0,
              "ticks": ""
             }
            },
            "type": "scatter3d"
           }
          ],
          "scattercarpet": [
           {
            "marker": {
             "colorbar": {
              "outlinewidth": 0,
              "ticks": ""
             }
            },
            "type": "scattercarpet"
           }
          ],
          "scattergeo": [
           {
            "marker": {
             "colorbar": {
              "outlinewidth": 0,
              "ticks": ""
             }
            },
            "type": "scattergeo"
           }
          ],
          "scattergl": [
           {
            "marker": {
             "colorbar": {
              "outlinewidth": 0,
              "ticks": ""
             }
            },
            "type": "scattergl"
           }
          ],
          "scattermapbox": [
           {
            "marker": {
             "colorbar": {
              "outlinewidth": 0,
              "ticks": ""
             }
            },
            "type": "scattermapbox"
           }
          ],
          "scatterpolar": [
           {
            "marker": {
             "colorbar": {
              "outlinewidth": 0,
              "ticks": ""
             }
            },
            "type": "scatterpolar"
           }
          ],
          "scatterpolargl": [
           {
            "marker": {
             "colorbar": {
              "outlinewidth": 0,
              "ticks": ""
             }
            },
            "type": "scatterpolargl"
           }
          ],
          "scatterternary": [
           {
            "marker": {
             "colorbar": {
              "outlinewidth": 0,
              "ticks": ""
             }
            },
            "type": "scatterternary"
           }
          ],
          "surface": [
           {
            "colorbar": {
             "outlinewidth": 0,
             "ticks": ""
            },
            "colorscale": [
             [
              0,
              "#0d0887"
             ],
             [
              0.1111111111111111,
              "#46039f"
             ],
             [
              0.2222222222222222,
              "#7201a8"
             ],
             [
              0.3333333333333333,
              "#9c179e"
             ],
             [
              0.4444444444444444,
              "#bd3786"
             ],
             [
              0.5555555555555556,
              "#d8576b"
             ],
             [
              0.6666666666666666,
              "#ed7953"
             ],
             [
              0.7777777777777778,
              "#fb9f3a"
             ],
             [
              0.8888888888888888,
              "#fdca26"
             ],
             [
              1,
              "#f0f921"
             ]
            ],
            "type": "surface"
           }
          ],
          "table": [
           {
            "cells": {
             "fill": {
              "color": "#EBF0F8"
             },
             "line": {
              "color": "white"
             }
            },
            "header": {
             "fill": {
              "color": "#C8D4E3"
             },
             "line": {
              "color": "white"
             }
            },
            "type": "table"
           }
          ]
         },
         "layout": {
          "annotationdefaults": {
           "arrowcolor": "#2a3f5f",
           "arrowhead": 0,
           "arrowwidth": 1
          },
          "coloraxis": {
           "colorbar": {
            "outlinewidth": 0,
            "ticks": ""
           }
          },
          "colorscale": {
           "diverging": [
            [
             0,
             "#8e0152"
            ],
            [
             0.1,
             "#c51b7d"
            ],
            [
             0.2,
             "#de77ae"
            ],
            [
             0.3,
             "#f1b6da"
            ],
            [
             0.4,
             "#fde0ef"
            ],
            [
             0.5,
             "#f7f7f7"
            ],
            [
             0.6,
             "#e6f5d0"
            ],
            [
             0.7,
             "#b8e186"
            ],
            [
             0.8,
             "#7fbc41"
            ],
            [
             0.9,
             "#4d9221"
            ],
            [
             1,
             "#276419"
            ]
           ],
           "sequential": [
            [
             0,
             "#0d0887"
            ],
            [
             0.1111111111111111,
             "#46039f"
            ],
            [
             0.2222222222222222,
             "#7201a8"
            ],
            [
             0.3333333333333333,
             "#9c179e"
            ],
            [
             0.4444444444444444,
             "#bd3786"
            ],
            [
             0.5555555555555556,
             "#d8576b"
            ],
            [
             0.6666666666666666,
             "#ed7953"
            ],
            [
             0.7777777777777778,
             "#fb9f3a"
            ],
            [
             0.8888888888888888,
             "#fdca26"
            ],
            [
             1,
             "#f0f921"
            ]
           ],
           "sequentialminus": [
            [
             0,
             "#0d0887"
            ],
            [
             0.1111111111111111,
             "#46039f"
            ],
            [
             0.2222222222222222,
             "#7201a8"
            ],
            [
             0.3333333333333333,
             "#9c179e"
            ],
            [
             0.4444444444444444,
             "#bd3786"
            ],
            [
             0.5555555555555556,
             "#d8576b"
            ],
            [
             0.6666666666666666,
             "#ed7953"
            ],
            [
             0.7777777777777778,
             "#fb9f3a"
            ],
            [
             0.8888888888888888,
             "#fdca26"
            ],
            [
             1,
             "#f0f921"
            ]
           ]
          },
          "colorway": [
           "#636efa",
           "#EF553B",
           "#00cc96",
           "#ab63fa",
           "#FFA15A",
           "#19d3f3",
           "#FF6692",
           "#B6E880",
           "#FF97FF",
           "#FECB52"
          ],
          "font": {
           "color": "#2a3f5f"
          },
          "geo": {
           "bgcolor": "white",
           "lakecolor": "white",
           "landcolor": "#E5ECF6",
           "showlakes": true,
           "showland": true,
           "subunitcolor": "white"
          },
          "hoverlabel": {
           "align": "left"
          },
          "hovermode": "closest",
          "mapbox": {
           "style": "light"
          },
          "paper_bgcolor": "white",
          "plot_bgcolor": "#E5ECF6",
          "polar": {
           "angularaxis": {
            "gridcolor": "white",
            "linecolor": "white",
            "ticks": ""
           },
           "bgcolor": "#E5ECF6",
           "radialaxis": {
            "gridcolor": "white",
            "linecolor": "white",
            "ticks": ""
           }
          },
          "scene": {
           "xaxis": {
            "backgroundcolor": "#E5ECF6",
            "gridcolor": "white",
            "gridwidth": 2,
            "linecolor": "white",
            "showbackground": true,
            "ticks": "",
            "zerolinecolor": "white"
           },
           "yaxis": {
            "backgroundcolor": "#E5ECF6",
            "gridcolor": "white",
            "gridwidth": 2,
            "linecolor": "white",
            "showbackground": true,
            "ticks": "",
            "zerolinecolor": "white"
           },
           "zaxis": {
            "backgroundcolor": "#E5ECF6",
            "gridcolor": "white",
            "gridwidth": 2,
            "linecolor": "white",
            "showbackground": true,
            "ticks": "",
            "zerolinecolor": "white"
           }
          },
          "shapedefaults": {
           "line": {
            "color": "#2a3f5f"
           }
          },
          "ternary": {
           "aaxis": {
            "gridcolor": "white",
            "linecolor": "white",
            "ticks": ""
           },
           "baxis": {
            "gridcolor": "white",
            "linecolor": "white",
            "ticks": ""
           },
           "bgcolor": "#E5ECF6",
           "caxis": {
            "gridcolor": "white",
            "linecolor": "white",
            "ticks": ""
           }
          },
          "title": {
           "x": 0.05
          },
          "xaxis": {
           "automargin": true,
           "gridcolor": "white",
           "linecolor": "white",
           "ticks": "",
           "title": {
            "standoff": 15
           },
           "zerolinecolor": "white",
           "zerolinewidth": 2
          },
          "yaxis": {
           "automargin": true,
           "gridcolor": "white",
           "linecolor": "white",
           "ticks": "",
           "title": {
            "standoff": 15
           },
           "zerolinecolor": "white",
           "zerolinewidth": 2
          }
         }
        },
        "title": {
         "text": "PDF",
         "x": 0.5,
         "xanchor": "center",
         "y": 0.9,
         "yanchor": "top"
        },
        "width": 500,
        "xaxis": {
         "anchor": "y2",
         "domain": [
          0,
          1
         ],
         "title": {
          "text": "Length of a headline"
         },
         "zeroline": false
        },
        "yaxis": {
         "anchor": "free",
         "domain": [
          0,
          1
         ],
         "position": 0,
         "title": {
          "text": "probability"
         }
        }
       }
      }
     },
     "metadata": {}
    }
   ],
   "source": [
    "# Probability distribution function of headline lenght similar to Gaussian function\n",
    "\n",
    "fig = ff.create_distplot([news_articles['headline'].str.len()], [\"ht\"],show_hist=False,show_rug=False)\n",
    "\n",
    "fig['layout'].update(title={'text':'PDF','y':0.9,'x':0.5,'xanchor': 'center','yanchor': 'top'}, xaxis_title=\"Length of a headline\",yaxis_title=\"probability\")\n",
    "\n",
    "fig.update_layout(showlegend = False,width=500,height=500)\n",
    "\n",
    "fig"
   ]
  },
  {
   "cell_type": "code",
   "execution_count": 20,
   "metadata": {},
   "outputs": [],
   "source": [
    "news_articles.index = range(news_articles.shape[0])"
   ]
  },
  {
   "cell_type": "code",
   "execution_count": 21,
   "metadata": {},
   "outputs": [],
   "source": [
    "# Adding a new column containing both day of the week and month, it will be required later while recommending based on day of the week and month\n",
    "news_articles[\"day and month\"] = news_articles[\"date\"].dt.strftime(\"%a\") + \"_\" + news_articles[\"date\"].dt.strftime(\"%b\")\n"
   ]
  },
  {
   "cell_type": "code",
   "execution_count": 22,
   "metadata": {},
   "outputs": [],
   "source": [
    "news_articles_temp = news_articles.copy()"
   ]
  },
  {
   "cell_type": "code",
   "execution_count": 23,
   "metadata": {},
   "outputs": [],
   "source": [
    "#Stop word removal\n",
    "stop_words = set(stopwords.words('english'))"
   ]
  },
  {
   "cell_type": "code",
   "execution_count": 24,
   "metadata": {
    "tags": []
   },
   "outputs": [
    {
     "output_type": "stream",
     "name": "stdout",
     "text": "0\n1000\n2000\n3000\n4000\n5000\n6000\n7000\n8000\n"
    }
   ],
   "source": [
    "for i in range(len(news_articles_temp[\"headline\"])):\n",
    "    string = \"\"\n",
    "    \n",
    "    for word in news_articles_temp[\"headline\"][i].split():\n",
    "        word = (\"\".join(e for e in word if e.isalnum()))\n",
    "        word = word.lower()\n",
    "        if not word in stop_words:\n",
    "          string += word + \" \"  \n",
    "    \n",
    "    if(i % 1000 == 0):\n",
    "      print(i)           # To track number of records processed\n",
    "    \n",
    "    news_articles_temp.at[i,\"headline\"] = string.strip()"
   ]
  },
  {
   "cell_type": "code",
   "execution_count": 25,
   "metadata": {},
   "outputs": [],
   "source": [
    "#Lemmatization\n",
    "lemmatizer = WordNetLemmatizer()"
   ]
  },
  {
   "cell_type": "code",
   "execution_count": 26,
   "metadata": {
    "tags": []
   },
   "outputs": [
    {
     "output_type": "stream",
     "name": "stdout",
     "text": "0\n1000\n2000\n3000\n4000\n5000\n6000\n7000\n8000\n"
    }
   ],
   "source": [
    "for i in range(len(news_articles_temp[\"headline\"])):\n",
    "    string = \"\"\n",
    "    \n",
    "    for w in word_tokenize(news_articles_temp[\"headline\"][i]):\n",
    "        string += lemmatizer.lemmatize(w,pos = \"v\") + \" \"\n",
    "    \n",
    "    news_articles_temp.at[i, \"headline\"] = string.strip()\n",
    "    \n",
    "    if(i % 1000 == 0):\n",
    "        print(i)  "
   ]
  },
  {
   "cell_type": "code",
   "execution_count": 27,
   "metadata": {},
   "outputs": [],
   "source": [
    "#Headlines based similarity on news articles\n",
    "#Bag of words method\n",
    "headline_vectorizer = CountVectorizer()\n",
    "\n",
    "headline_features   = headline_vectorizer.fit_transform(news_articles_temp['headline'])"
   ]
  },
  {
   "cell_type": "code",
   "execution_count": 28,
   "metadata": {},
   "outputs": [
    {
     "output_type": "execute_result",
     "data": {
      "text/plain": "(8485, 11122)"
     },
     "metadata": {},
     "execution_count": 28
    }
   ],
   "source": [
    "headline_features.get_shape()"
   ]
  },
  {
   "cell_type": "code",
   "execution_count": 29,
   "metadata": {},
   "outputs": [],
   "source": [
    "# To display a very long headline completely\n",
    "\n",
    "pd.set_option('display.max_colwidth', -1)  "
   ]
  },
  {
   "cell_type": "code",
   "execution_count": 34,
   "metadata": {
    "tags": []
   },
   "outputs": [
    {
     "output_type": "stream",
     "name": "stdout",
     "text": "============================== Queried article details ==============================\nheadline :  Woman Fired After Flipping Off Trump's Motorcade Sues Former Employer\n\n ========================= Recommended articles :  =======================\n"
    },
    {
     "output_type": "execute_result",
     "data": {
      "text/plain": "   publish_date                                                     headline  \\\n1  2018-04-02    The Trump Administration Is Suing California Again            \n2  2018-05-01    Texas Sues Trump Administration To End DACA                   \n3  2018-03-07    Stormy Daniels Suing Trump Over Nondisclosure Agreement       \n4  2018-04-28    Trump: Mueller Should Never Have Been Appointed               \n5  2018-04-24    Spanish Woman Looks More Like Trump Than The Donald Himself   \n6  2018-02-12    What You Should Know About Trump's Nihilist Budget            \n7  2018-05-09    The Caliphate Of Trump And A Planet In Ruins                  \n8  2018-03-26    Trump Ally Sues Qatar For Hacking His Email                   \n9  2018-02-21    All They Will Call You Will Be Deportees                      \n10 2018-04-11    Pursuing Desegregation In The Trump Era                       \n\n    Euclidean similarity with the queried article  \n1   2.828427                                       \n2   3.162278                                       \n3   3.162278                                       \n4   3.162278                                       \n5   3.162278                                       \n6   3.162278                                       \n7   3.162278                                       \n8   3.162278                                       \n9   3.162278                                       \n10  3.162278                                       ",
      "text/html": "<div>\n<style scoped>\n    .dataframe tbody tr th:only-of-type {\n        vertical-align: middle;\n    }\n\n    .dataframe tbody tr th {\n        vertical-align: top;\n    }\n\n    .dataframe thead th {\n        text-align: right;\n    }\n</style>\n<table border=\"1\" class=\"dataframe\">\n  <thead>\n    <tr style=\"text-align: right;\">\n      <th></th>\n      <th>publish_date</th>\n      <th>headline</th>\n      <th>Euclidean similarity with the queried article</th>\n    </tr>\n  </thead>\n  <tbody>\n    <tr>\n      <th>1</th>\n      <td>2018-04-02</td>\n      <td>The Trump Administration Is Suing California Again</td>\n      <td>2.828427</td>\n    </tr>\n    <tr>\n      <th>2</th>\n      <td>2018-05-01</td>\n      <td>Texas Sues Trump Administration To End DACA</td>\n      <td>3.162278</td>\n    </tr>\n    <tr>\n      <th>3</th>\n      <td>2018-03-07</td>\n      <td>Stormy Daniels Suing Trump Over Nondisclosure Agreement</td>\n      <td>3.162278</td>\n    </tr>\n    <tr>\n      <th>4</th>\n      <td>2018-04-28</td>\n      <td>Trump: Mueller Should Never Have Been Appointed</td>\n      <td>3.162278</td>\n    </tr>\n    <tr>\n      <th>5</th>\n      <td>2018-04-24</td>\n      <td>Spanish Woman Looks More Like Trump Than The Donald Himself</td>\n      <td>3.162278</td>\n    </tr>\n    <tr>\n      <th>6</th>\n      <td>2018-02-12</td>\n      <td>What You Should Know About Trump's Nihilist Budget</td>\n      <td>3.162278</td>\n    </tr>\n    <tr>\n      <th>7</th>\n      <td>2018-05-09</td>\n      <td>The Caliphate Of Trump And A Planet In Ruins</td>\n      <td>3.162278</td>\n    </tr>\n    <tr>\n      <th>8</th>\n      <td>2018-03-26</td>\n      <td>Trump Ally Sues Qatar For Hacking His Email</td>\n      <td>3.162278</td>\n    </tr>\n    <tr>\n      <th>9</th>\n      <td>2018-02-21</td>\n      <td>All They Will Call You Will Be Deportees</td>\n      <td>3.162278</td>\n    </tr>\n    <tr>\n      <th>10</th>\n      <td>2018-04-11</td>\n      <td>Pursuing Desegregation In The Trump Era</td>\n      <td>3.162278</td>\n    </tr>\n  </tbody>\n</table>\n</div>"
     },
     "metadata": {},
     "execution_count": 34
    }
   ],
   "source": [
    "def bag_of_words_based_model(row_index, num_similar_items):\n",
    "    couple_dist = pairwise_distances(headline_features,headline_features[row_index])\n",
    "    \n",
    "    indices = np.argsort(couple_dist.ravel())[0:num_similar_items]\n",
    "    \n",
    "    df = pd.DataFrame({'publish_date': news_articles['date'][indices].values,\n",
    "               'headline':news_articles['headline'][indices].values,\n",
    "                'Euclidean similarity with the queried article': couple_dist[indices].ravel()})\n",
    "    \n",
    "    print(\"=\"*30,\"Queried article details\",\"=\"*30)\n",
    "    \n",
    "    print('headline : ',news_articles['headline'][indices[0]])\n",
    "    \n",
    "    print(\"\\n\",\"=\"*25,\"Recommended articles : \",\"=\"*23)\n",
    "    \n",
    "    #return df.iloc[1:,1]\n",
    "    return df.iloc[1:,]\n",
    "\n",
    "# Change the row index for any other queried article\n",
    "bag_of_words_based_model(133, 11) "
   ]
  },
  {
   "cell_type": "code",
   "execution_count": 35,
   "metadata": {},
   "outputs": [],
   "source": [
    "#TF-IDF method\n",
    "tfidf_headline_vectorizer = TfidfVectorizer(min_df = 0)\n",
    "\n",
    "tfidf_headline_features = tfidf_headline_vectorizer.fit_transform(news_articles_temp['headline'])"
   ]
  },
  {
   "cell_type": "code",
   "execution_count": 36,
   "metadata": {
    "tags": []
   },
   "outputs": [
    {
     "output_type": "stream",
     "name": "stdout",
     "text": "============================== Queried article details ==============================\nheadline :  Woman Fired After Flipping Off Trump's Motorcade Sues Former Employer\n\n ========================= Recommended articles :  =======================\n"
    },
    {
     "output_type": "execute_result",
     "data": {
      "text/plain": "   publish_date  \\\n1  2018-05-21     \n2  2018-04-02     \n3  2018-04-10     \n4  2018-04-26     \n5  2018-04-03     \n6  2018-02-24     \n7  2018-01-16     \n8  2018-02-21     \n9  2018-01-09     \n10 2018-02-28     \n\n                                                                        headline  \\\n1   The Supreme Court Just Made It A Lot Harder For You To Sue Your Employer       \n2   The Trump Administration Is Suing California Again                             \n3   Lou Dobbs Flips Out On Live TV, Urges Trump To 'Fire The SOB' Robert Mueller   \n4   Cardi B's Former Manager Sues Her For $10 Million                              \n5   A Third Woman Is Suing To Break A Trump-Related Nondisclosure Agreement        \n6   Former RNC Chair Fires Back At Claim He Was Only Hired Because He Was Black    \n7   State Employer Side Payroll Taxes And Loser Liberalism                         \n8   Democrats Flip Kentucky State House Seat Where Trump Won Overwhelmingly        \n9   Big Tax Game Hunting: Employer Side Payroll Taxes                              \n10  Democrats Flip 2 More GOP-Held State House Seats                               \n\n    Euclidean similarity with the queried article  \n1   1.164067                                       \n2   1.253867                                       \n3   1.258810                                       \n4   1.268704                                       \n5   1.274264                                       \n6   1.274847                                       \n7   1.276696                                       \n8   1.282008                                       \n9   1.285147                                       \n10  1.287403                                       ",
      "text/html": "<div>\n<style scoped>\n    .dataframe tbody tr th:only-of-type {\n        vertical-align: middle;\n    }\n\n    .dataframe tbody tr th {\n        vertical-align: top;\n    }\n\n    .dataframe thead th {\n        text-align: right;\n    }\n</style>\n<table border=\"1\" class=\"dataframe\">\n  <thead>\n    <tr style=\"text-align: right;\">\n      <th></th>\n      <th>publish_date</th>\n      <th>headline</th>\n      <th>Euclidean similarity with the queried article</th>\n    </tr>\n  </thead>\n  <tbody>\n    <tr>\n      <th>1</th>\n      <td>2018-05-21</td>\n      <td>The Supreme Court Just Made It A Lot Harder For You To Sue Your Employer</td>\n      <td>1.164067</td>\n    </tr>\n    <tr>\n      <th>2</th>\n      <td>2018-04-02</td>\n      <td>The Trump Administration Is Suing California Again</td>\n      <td>1.253867</td>\n    </tr>\n    <tr>\n      <th>3</th>\n      <td>2018-04-10</td>\n      <td>Lou Dobbs Flips Out On Live TV, Urges Trump To 'Fire The SOB' Robert Mueller</td>\n      <td>1.258810</td>\n    </tr>\n    <tr>\n      <th>4</th>\n      <td>2018-04-26</td>\n      <td>Cardi B's Former Manager Sues Her For $10 Million</td>\n      <td>1.268704</td>\n    </tr>\n    <tr>\n      <th>5</th>\n      <td>2018-04-03</td>\n      <td>A Third Woman Is Suing To Break A Trump-Related Nondisclosure Agreement</td>\n      <td>1.274264</td>\n    </tr>\n    <tr>\n      <th>6</th>\n      <td>2018-02-24</td>\n      <td>Former RNC Chair Fires Back At Claim He Was Only Hired Because He Was Black</td>\n      <td>1.274847</td>\n    </tr>\n    <tr>\n      <th>7</th>\n      <td>2018-01-16</td>\n      <td>State Employer Side Payroll Taxes And Loser Liberalism</td>\n      <td>1.276696</td>\n    </tr>\n    <tr>\n      <th>8</th>\n      <td>2018-02-21</td>\n      <td>Democrats Flip Kentucky State House Seat Where Trump Won Overwhelmingly</td>\n      <td>1.282008</td>\n    </tr>\n    <tr>\n      <th>9</th>\n      <td>2018-01-09</td>\n      <td>Big Tax Game Hunting: Employer Side Payroll Taxes</td>\n      <td>1.285147</td>\n    </tr>\n    <tr>\n      <th>10</th>\n      <td>2018-02-28</td>\n      <td>Democrats Flip 2 More GOP-Held State House Seats</td>\n      <td>1.287403</td>\n    </tr>\n  </tbody>\n</table>\n</div>"
     },
     "metadata": {},
     "execution_count": 36
    }
   ],
   "source": [
    "def tfidf_based_model(row_index, num_similar_items):\n",
    "    couple_dist = pairwise_distances(tfidf_headline_features,tfidf_headline_features[row_index])\n",
    "    \n",
    "    indices = np.argsort(couple_dist.ravel())[0:num_similar_items]\n",
    "    \n",
    "    df = pd.DataFrame({'publish_date': news_articles['date'][indices].values,\n",
    "               'headline':news_articles['headline'][indices].values,\n",
    "                'Euclidean similarity with the queried article': couple_dist[indices].ravel()})\n",
    "    \n",
    "    print(\"=\"*30,\"Queried article details\",\"=\"*30)\n",
    "    \n",
    "    print('headline : ',news_articles['headline'][indices[0]])\n",
    "    \n",
    "    print(\"\\n\",\"=\"*25,\"Recommended articles : \",\"=\"*23)\n",
    "    \n",
    "    #return df.iloc[1:,1]\n",
    "    return df.iloc[1:,]\n",
    "\n",
    "tfidf_based_model(133, 11)"
   ]
  },
  {
   "cell_type": "code",
   "execution_count": 47,
   "metadata": {
    "tags": []
   },
   "outputs": [
    {
     "output_type": "stream",
     "name": "stdout",
     "text": "Requirement already satisfied: gensim in c:\\users\\prasan\\miniconda3\\lib\\site-packages (3.8.3)\nRequirement already satisfied: Cython==0.29.14 in c:\\users\\prasan\\miniconda3\\lib\\site-packages (from gensim) (0.29.14)\nRequirement already satisfied: smart-open>=1.8.1 in c:\\users\\prasan\\miniconda3\\lib\\site-packages (from gensim) (2.1.0)\nRequirement already satisfied: numpy>=1.11.3 in c:\\users\\prasan\\miniconda3\\lib\\site-packages (from gensim) (1.18.4)\nRequirement already satisfied: scipy>=0.18.1 in c:\\users\\prasan\\miniconda3\\lib\\site-packages (from gensim) (1.4.1)\nRequirement already satisfied: six>=1.5.0 in c:\\users\\prasan\\miniconda3\\lib\\site-packages (from gensim) (1.12.0)\nRequirement already satisfied: boto in c:\\users\\prasan\\miniconda3\\lib\\site-packages (from smart-open>=1.8.1->gensim) (2.49.0)\nRequirement already satisfied: boto3 in c:\\users\\prasan\\miniconda3\\lib\\site-packages (from smart-open>=1.8.1->gensim) (1.9.169)\nRequirement already satisfied: requests in c:\\users\\prasan\\miniconda3\\lib\\site-packages (from smart-open>=1.8.1->gensim) (2.21.0)\nRequirement already satisfied: botocore<1.13.0,>=1.12.169 in c:\\users\\prasan\\miniconda3\\lib\\site-packages (from boto3->smart-open>=1.8.1->gensim) (1.12.169)\nRequirement already satisfied: s3transfer<0.3.0,>=0.2.0 in c:\\users\\prasan\\miniconda3\\lib\\site-packages (from boto3->smart-open>=1.8.1->gensim) (0.2.1)\nRequirement already satisfied: jmespath<1.0.0,>=0.7.1 in c:\\users\\prasan\\miniconda3\\lib\\site-packages (from boto3->smart-open>=1.8.1->gensim) (0.9.4)\nRequirement already satisfied: idna<2.9,>=2.5 in c:\\users\\prasan\\miniconda3\\lib\\site-packages (from requests->smart-open>=1.8.1->gensim) (2.8)\nRequirement already satisfied: chardet<3.1.0,>=3.0.2 in c:\\users\\prasan\\miniconda3\\lib\\site-packages (from requests->smart-open>=1.8.1->gensim) (3.0.4)\nRequirement already satisfied: urllib3<1.25,>=1.21.1 in c:\\users\\prasan\\miniconda3\\lib\\site-packages (from requests->smart-open>=1.8.1->gensim) (1.24.2)\nRequirement already satisfied: certifi>=2017.4.17 in c:\\users\\prasan\\miniconda3\\lib\\site-packages (from requests->smart-open>=1.8.1->gensim) (2018.8.24)\nRequirement already satisfied: docutils>=0.10 in c:\\users\\prasan\\miniconda3\\lib\\site-packages (from botocore<1.13.0,>=1.12.169->boto3->smart-open>=1.8.1->gensim) (0.14)\nRequirement already satisfied: python-dateutil<3.0.0,>=2.1; python_version >= \"2.7\" in c:\\users\\prasan\\miniconda3\\lib\\site-packages (from botocore<1.13.0,>=1.12.169->boto3->smart-open>=1.8.1->gensim) (2.7.5)\nWARNING: You are using pip version 20.1.1; however, version 20.2.1 is available.\nYou should consider upgrading via the 'C:\\Users\\Prasan\\Miniconda3\\python.exe -m pip install --upgrade pip' command.\n"
    }
   ],
   "source": [
    "#Word2Vec embedding\n",
    "!python -m pip install gensim\n",
    "from gensim.models import Word2Vec\n",
    "from gensim.models import KeyedVectors\n",
    "import pickle"
   ]
  },
  {
   "cell_type": "code",
   "execution_count": 59,
   "metadata": {
    "tags": []
   },
   "outputs": [
    {
     "output_type": "stream",
     "name": "stdout",
     "text": "<gensim.models.keyedvectors.Word2VecKeyedVectors object at 0x000001A4F49D0848>\n"
    }
   ],
   "source": [
    "import gensim\n",
    "\n",
    "loaded_model = gensim.models.KeyedVectors.load_word2vec_format('GoogleNews-vectors-negative300.bin', binary=True)\n",
    "print(loaded_model)"
   ]
  },
  {
   "cell_type": "code",
   "execution_count": 61,
   "metadata": {},
   "outputs": [],
   "source": [
    "vocabulary = KeyedVectors(loaded_model.vector_size)\n",
    "w2v_headline = []\n",
    "\n",
    "for i in news_articles_temp['headline']:\n",
    "    w2Vec_word = np.zeros(300, dtype=\"float32\")\n",
    "    \n",
    "    for word in i.split():\n",
    "        if word in vocabulary:\n",
    "            w2Vec_word = np.add(w2Vec_word, loaded_model[word])\n",
    "    \n",
    "    w2Vec_word = np.divide(w2Vec_word, len(i.split()))\n",
    "    w2v_headline.append(w2Vec_word)\n",
    "\n",
    "w2v_headline = np.array(w2v_headline)"
   ]
  },
  {
   "cell_type": "code",
   "execution_count": 62,
   "metadata": {
    "tags": []
   },
   "outputs": [
    {
     "output_type": "stream",
     "name": "stdout",
     "text": "============================== Queried article details ==============================\nheadline :  ‘Will & Grace’ Creator To Donate Gay Bunny Book To Every Grade School In Indiana\n\n ========================= Recommended articles :  =======================\n"
    },
    {
     "output_type": "execute_result",
     "data": {
      "text/plain": "   publish_date  \\\n1  2018-05-12     \n2  2018-05-25     \n3  2018-03-28     \n4  2018-03-06     \n5  2018-03-30     \n6  2018-02-08     \n7  2018-05-08     \n8  2018-05-15     \n9  2018-05-22     \n10 2018-05-06     \n\n                                                                               headline  \\\n1   George Soros, Progressive Groups To Spend Millions To Elect Reformist Prosecutors     \n2   George Takei Accuser Walks Back Story Of Drugging And Sexual Assault                  \n3   George W. Bush Dances Up A Storm At His Nephew's Wedding                              \n4   George W. Bush Reportedly Sounds Off On Trump: 'Sorta Makes Me Look Pretty Good'      \n5   George W. Bush's Ethics Chief Warns Trump Insiders: People Will Go 'To The Slammer'   \n6   George W. Bush: It's Pretty Clear That Russia Meddled In 2016 Election                \n7   George Zimmerman Accused Of Stalking Detective Working On Trayvon Martin Film         \n8   Georgia GOP Gov. Candidate Wants To Round Up Immigrants In 'Deportation Bus'          \n9   Georgia Governor’s Primary Highlights Competing Visions For The Democratic Party      \n10  Georgia Highway Sniper 'Idolized' Parkland Shooter, Police Say                        \n\n    Euclidean similarity with the queried article  \n1   0.0                                            \n2   0.0                                            \n3   0.0                                            \n4   0.0                                            \n5   0.0                                            \n6   0.0                                            \n7   0.0                                            \n8   0.0                                            \n9   0.0                                            \n10  0.0                                            ",
      "text/html": "<div>\n<style scoped>\n    .dataframe tbody tr th:only-of-type {\n        vertical-align: middle;\n    }\n\n    .dataframe tbody tr th {\n        vertical-align: top;\n    }\n\n    .dataframe thead th {\n        text-align: right;\n    }\n</style>\n<table border=\"1\" class=\"dataframe\">\n  <thead>\n    <tr style=\"text-align: right;\">\n      <th></th>\n      <th>publish_date</th>\n      <th>headline</th>\n      <th>Euclidean similarity with the queried article</th>\n    </tr>\n  </thead>\n  <tbody>\n    <tr>\n      <th>1</th>\n      <td>2018-05-12</td>\n      <td>George Soros, Progressive Groups To Spend Millions To Elect Reformist Prosecutors</td>\n      <td>0.0</td>\n    </tr>\n    <tr>\n      <th>2</th>\n      <td>2018-05-25</td>\n      <td>George Takei Accuser Walks Back Story Of Drugging And Sexual Assault</td>\n      <td>0.0</td>\n    </tr>\n    <tr>\n      <th>3</th>\n      <td>2018-03-28</td>\n      <td>George W. Bush Dances Up A Storm At His Nephew's Wedding</td>\n      <td>0.0</td>\n    </tr>\n    <tr>\n      <th>4</th>\n      <td>2018-03-06</td>\n      <td>George W. Bush Reportedly Sounds Off On Trump: 'Sorta Makes Me Look Pretty Good'</td>\n      <td>0.0</td>\n    </tr>\n    <tr>\n      <th>5</th>\n      <td>2018-03-30</td>\n      <td>George W. Bush's Ethics Chief Warns Trump Insiders: People Will Go 'To The Slammer'</td>\n      <td>0.0</td>\n    </tr>\n    <tr>\n      <th>6</th>\n      <td>2018-02-08</td>\n      <td>George W. Bush: It's Pretty Clear That Russia Meddled In 2016 Election</td>\n      <td>0.0</td>\n    </tr>\n    <tr>\n      <th>7</th>\n      <td>2018-05-08</td>\n      <td>George Zimmerman Accused Of Stalking Detective Working On Trayvon Martin Film</td>\n      <td>0.0</td>\n    </tr>\n    <tr>\n      <th>8</th>\n      <td>2018-05-15</td>\n      <td>Georgia GOP Gov. Candidate Wants To Round Up Immigrants In 'Deportation Bus'</td>\n      <td>0.0</td>\n    </tr>\n    <tr>\n      <th>9</th>\n      <td>2018-05-22</td>\n      <td>Georgia Governor’s Primary Highlights Competing Visions For The Democratic Party</td>\n      <td>0.0</td>\n    </tr>\n    <tr>\n      <th>10</th>\n      <td>2018-05-06</td>\n      <td>Georgia Highway Sniper 'Idolized' Parkland Shooter, Police Say</td>\n      <td>0.0</td>\n    </tr>\n  </tbody>\n</table>\n</div>"
     },
     "metadata": {},
     "execution_count": 62
    }
   ],
   "source": [
    "def avg_w2v_based_model(row_index, num_similar_items):\n",
    "    couple_dist = pairwise_distances(w2v_headline, w2v_headline[row_index].reshape(1,-1))\n",
    "    \n",
    "    indices = np.argsort(couple_dist.ravel())[0:num_similar_items]\n",
    "    \n",
    "    df = pd.DataFrame({'publish_date': news_articles['date'][indices].values,\n",
    "               'headline':news_articles['headline'][indices].values,\n",
    "                'Euclidean similarity with the queried article': couple_dist[indices].ravel()})\n",
    "    \n",
    "    print(\"=\"*30,\"Queried article details\",\"=\"*30)\n",
    "    \n",
    "    print('headline : ',news_articles['headline'][indices[0]])\n",
    "    \n",
    "    print(\"\\n\",\"=\"*25,\"Recommended articles : \",\"=\"*23)\n",
    "    #return df.iloc[1:,1]\n",
    "    \n",
    "    return df.iloc[1:,]\n",
    "\n",
    "avg_w2v_based_model(133, 11)"
   ]
  },
  {
   "cell_type": "code",
   "execution_count": 63,
   "metadata": {},
   "outputs": [],
   "source": [
    "#Weighted similarity based on headline and category\n",
    "from sklearn.preprocessing import OneHotEncoder "
   ]
  },
  {
   "cell_type": "code",
   "execution_count": 64,
   "metadata": {},
   "outputs": [],
   "source": [
    "category_onehot_encoded = OneHotEncoder().fit_transform(np.array(news_articles_temp[\"category\"]).reshape(-1,1))"
   ]
  },
  {
   "cell_type": "code",
   "execution_count": 65,
   "metadata": {
    "tags": []
   },
   "outputs": [
    {
     "output_type": "stream",
     "name": "stdout",
     "text": "============================== Queried article details ==============================\nheadline :  Chuck E. Cheese’s Now Offers 'Sensory Sensitive Sundays' For Special Needs Children\nCategoty :  EDUCATION\n\n ========================= Recommended articles :  =======================\n"
    },
    {
     "output_type": "execute_result",
     "data": {
      "text/plain": "  publish_date  \\\n1 2018-04-11     \n2 2018-01-30     \n3 2018-04-09     \n4 2018-04-16     \n5 2018-01-03     \n6 2018-02-20     \n7 2018-04-11     \n8 2018-04-06     \n9 2018-04-19     \n\n                                                                                   headline  \\\n1  Pennsylvania School District Arms 500 Teachers With Mini Baseball Bats                     \n2  Columbia University Refuses To Recognize Graduate Student Union                            \n3  Hey, Laura Ingraham, David Hogg Actually Did Get Into UC Irvine                            \n4  Beyoncé Announces $100,000 In Scholarships For HBCU Students                               \n5  Children Forced To 'Deal With It' And Bundle Up As Classrooms Lose Heat                    \n6  Company That Sells Bulletproof Gucci And Hermès Bags Sees Huge Sales In School Backpacks   \n7  Parkland School District Votes Against Arming Teachers                                     \n8  Puerto Rico To Shutter 283 More Schools This Summer As Education Crisis Deepens            \n9  Desperate For Teachers, Districts Beg Retirees To Come Back                                \n\n   Weighted Euclidean similarity with the queried article  \\\n1  0.888889                                                 \n2  0.888889                                                 \n3  0.888889                                                 \n4  0.888889                                                 \n5  0.888889                                                 \n6  0.888889                                                 \n7  0.888889                                                 \n8  0.888889                                                 \n9  0.888889                                                 \n\n   Word2Vec based Euclidean similarity  Category based Euclidean similarity  \\\n1  0.0                                  1.0                                   \n2  0.0                                  1.0                                   \n3  0.0                                  1.0                                   \n4  0.0                                  1.0                                   \n5  0.0                                  1.0                                   \n6  0.0                                  1.0                                   \n7  0.0                                  1.0                                   \n8  0.0                                  1.0                                   \n9  0.0                                  1.0                                   \n\n    Categoty  \n1  EDUCATION  \n2  EDUCATION  \n3  EDUCATION  \n4  EDUCATION  \n5  EDUCATION  \n6  EDUCATION  \n7  EDUCATION  \n8  EDUCATION  \n9  EDUCATION  ",
      "text/html": "<div>\n<style scoped>\n    .dataframe tbody tr th:only-of-type {\n        vertical-align: middle;\n    }\n\n    .dataframe tbody tr th {\n        vertical-align: top;\n    }\n\n    .dataframe thead th {\n        text-align: right;\n    }\n</style>\n<table border=\"1\" class=\"dataframe\">\n  <thead>\n    <tr style=\"text-align: right;\">\n      <th></th>\n      <th>publish_date</th>\n      <th>headline</th>\n      <th>Weighted Euclidean similarity with the queried article</th>\n      <th>Word2Vec based Euclidean similarity</th>\n      <th>Category based Euclidean similarity</th>\n      <th>Categoty</th>\n    </tr>\n  </thead>\n  <tbody>\n    <tr>\n      <th>1</th>\n      <td>2018-04-11</td>\n      <td>Pennsylvania School District Arms 500 Teachers With Mini Baseball Bats</td>\n      <td>0.888889</td>\n      <td>0.0</td>\n      <td>1.0</td>\n      <td>EDUCATION</td>\n    </tr>\n    <tr>\n      <th>2</th>\n      <td>2018-01-30</td>\n      <td>Columbia University Refuses To Recognize Graduate Student Union</td>\n      <td>0.888889</td>\n      <td>0.0</td>\n      <td>1.0</td>\n      <td>EDUCATION</td>\n    </tr>\n    <tr>\n      <th>3</th>\n      <td>2018-04-09</td>\n      <td>Hey, Laura Ingraham, David Hogg Actually Did Get Into UC Irvine</td>\n      <td>0.888889</td>\n      <td>0.0</td>\n      <td>1.0</td>\n      <td>EDUCATION</td>\n    </tr>\n    <tr>\n      <th>4</th>\n      <td>2018-04-16</td>\n      <td>Beyoncé Announces $100,000 In Scholarships For HBCU Students</td>\n      <td>0.888889</td>\n      <td>0.0</td>\n      <td>1.0</td>\n      <td>EDUCATION</td>\n    </tr>\n    <tr>\n      <th>5</th>\n      <td>2018-01-03</td>\n      <td>Children Forced To 'Deal With It' And Bundle Up As Classrooms Lose Heat</td>\n      <td>0.888889</td>\n      <td>0.0</td>\n      <td>1.0</td>\n      <td>EDUCATION</td>\n    </tr>\n    <tr>\n      <th>6</th>\n      <td>2018-02-20</td>\n      <td>Company That Sells Bulletproof Gucci And Hermès Bags Sees Huge Sales In School Backpacks</td>\n      <td>0.888889</td>\n      <td>0.0</td>\n      <td>1.0</td>\n      <td>EDUCATION</td>\n    </tr>\n    <tr>\n      <th>7</th>\n      <td>2018-04-11</td>\n      <td>Parkland School District Votes Against Arming Teachers</td>\n      <td>0.888889</td>\n      <td>0.0</td>\n      <td>1.0</td>\n      <td>EDUCATION</td>\n    </tr>\n    <tr>\n      <th>8</th>\n      <td>2018-04-06</td>\n      <td>Puerto Rico To Shutter 283 More Schools This Summer As Education Crisis Deepens</td>\n      <td>0.888889</td>\n      <td>0.0</td>\n      <td>1.0</td>\n      <td>EDUCATION</td>\n    </tr>\n    <tr>\n      <th>9</th>\n      <td>2018-04-19</td>\n      <td>Desperate For Teachers, Districts Beg Retirees To Come Back</td>\n      <td>0.888889</td>\n      <td>0.0</td>\n      <td>1.0</td>\n      <td>EDUCATION</td>\n    </tr>\n  </tbody>\n</table>\n</div>"
     },
     "metadata": {},
     "execution_count": 65
    }
   ],
   "source": [
    "def avg_w2v_with_category(row_index, num_similar_items, w1,w2): #headline_preference = True, category_preference = False):\n",
    "    w2v_dist  = pairwise_distances(w2v_headline, w2v_headline[row_index].reshape(1,-1))\n",
    "    \n",
    "    category_dist = pairwise_distances(category_onehot_encoded, category_onehot_encoded[row_index]) + 1\n",
    "    \n",
    "    weighted_couple_dist   = (w1 * w2v_dist +  w2 * category_dist)/float(w1 + w2)\n",
    "    \n",
    "    indices = np.argsort(weighted_couple_dist.flatten())[0:num_similar_items].tolist()\n",
    "    \n",
    "    df = pd.DataFrame({'publish_date': news_articles['date'][indices].values,\n",
    "               'headline':news_articles['headline'][indices].values,\n",
    "                'Weighted Euclidean similarity with the queried article': weighted_couple_dist[indices].ravel(),\n",
    "                'Word2Vec based Euclidean similarity': w2v_dist[indices].ravel(),\n",
    "                 'Category based Euclidean similarity': category_dist[indices].ravel(),\n",
    "                'Categoty': news_articles['category'][indices].values})\n",
    "    \n",
    "    print(\"=\"*30,\"Queried article details\",\"=\"*30)\n",
    "    \n",
    "    print('headline : ',news_articles['headline'][indices[0]])\n",
    "    \n",
    "    print('Categoty : ', news_articles['category'][indices[0]])\n",
    "    \n",
    "    print(\"\\n\",\"=\"*25,\"Recommended articles : \",\"=\"*23)\n",
    "    \n",
    "    #return df.iloc[1:,[1,5]]\n",
    "    return df.iloc[1:, ]\n",
    "\n",
    "avg_w2v_with_category(528,10,0.1,0.8)"
   ]
  },
  {
   "cell_type": "code",
   "execution_count": 66,
   "metadata": {},
   "outputs": [],
   "source": [
    "#Weighted similarity based on headline, category and author\n",
    "authors_onehot_encoded = OneHotEncoder().fit_transform(np.array(news_articles_temp[\"authors\"]).reshape(-1,1))"
   ]
  },
  {
   "cell_type": "code",
   "execution_count": 67,
   "metadata": {
    "tags": []
   },
   "outputs": [
    {
     "output_type": "stream",
     "name": "stdout",
     "text": "============================== Queried article details ==============================\nheadline :  Universities Tell Applicants That Protesting Gun Violence Won’t Affect Admissions\nCategoty :  EDUCATION\nAuthors :  Carla Herreria\n\n ========================= Recommended articles :  =======================\n"
    },
    {
     "output_type": "execute_result",
     "data": {
      "text/plain": "  publish_date  \\\n1 2018-03-02     \n2 2018-03-18     \n3 2018-02-28     \n4 2018-01-17     \n5 2018-01-06     \n6 2018-03-08     \n7 2018-05-25     \n8 2018-01-26     \n9 2018-01-04     \n\n                                                                             headline  \\\n1  Hawaii Democrat Defends Stance On Guns After Actress Questions Her Silence On Bill   \n2  Democrats Flood McCabe With Federal Job Offers So He Can Access His Pension          \n3  Kevin Smith Opens Up About Death, Fat-Shaming And Chris Pratt's Prayers              \n4  Hackers Messaged Donald Trump With Former Fox News Hosts' Twitter Accounts           \n5  White Supremacist Charged With Terrorism After Alleged Attempt To Derail Train       \n6  HBO's Martin Luther King Jr. Film Reveals His 'Dark And Dangerous' Final Years       \n7  Rachel Dolezal Faces Felony Charges For Welfare Fraud                                \n8  Olympic Committee Gives USA Gymnastics An Ultimatum Over Sex Abuse Scandal           \n9  Gunfire Outside Colorado State Capitol Forces Brief Lockdown                         \n\n   Weighted Euclidean similarity with the queried article  \\\n1  1.034518                                                 \n2  1.034518                                                 \n3  1.034518                                                 \n4  1.034518                                                 \n5  1.034518                                                 \n6  1.034518                                                 \n7  1.034518                                                 \n8  1.034518                                                 \n9  1.034518                                                 \n\n   Word2Vec based Euclidean similarity  Category based Euclidean similarity  \\\n1  0.0                                  2.414214                              \n2  0.0                                  2.414214                              \n3  0.0                                  2.414214                              \n4  0.0                                  2.414214                              \n5  0.0                                  2.414214                              \n6  0.0                                  2.414214                              \n7  0.0                                  2.414214                              \n8  0.0                                  2.414214                              \n9  0.0                                  2.414214                              \n\n   Authors based Euclidean similarity      Categoty         Authors  \n1  1.0                                 POLITICS      Carla Herreria  \n2  1.0                                 POLITICS      Carla Herreria  \n3  1.0                                 COMEDY        Carla Herreria  \n4  1.0                                 MEDIA         Carla Herreria  \n5  1.0                                 CRIME         Carla Herreria  \n6  1.0                                 BLACK VOICES  Carla Herreria  \n7  1.0                                 CRIME         Carla Herreria  \n8  1.0                                 SPORTS        Carla Herreria  \n9  1.0                                 CRIME         Carla Herreria  ",
      "text/html": "<div>\n<style scoped>\n    .dataframe tbody tr th:only-of-type {\n        vertical-align: middle;\n    }\n\n    .dataframe tbody tr th {\n        vertical-align: top;\n    }\n\n    .dataframe thead th {\n        text-align: right;\n    }\n</style>\n<table border=\"1\" class=\"dataframe\">\n  <thead>\n    <tr style=\"text-align: right;\">\n      <th></th>\n      <th>publish_date</th>\n      <th>headline</th>\n      <th>Weighted Euclidean similarity with the queried article</th>\n      <th>Word2Vec based Euclidean similarity</th>\n      <th>Category based Euclidean similarity</th>\n      <th>Authors based Euclidean similarity</th>\n      <th>Categoty</th>\n      <th>Authors</th>\n    </tr>\n  </thead>\n  <tbody>\n    <tr>\n      <th>1</th>\n      <td>2018-03-02</td>\n      <td>Hawaii Democrat Defends Stance On Guns After Actress Questions Her Silence On Bill</td>\n      <td>1.034518</td>\n      <td>0.0</td>\n      <td>2.414214</td>\n      <td>1.0</td>\n      <td>POLITICS</td>\n      <td>Carla Herreria</td>\n    </tr>\n    <tr>\n      <th>2</th>\n      <td>2018-03-18</td>\n      <td>Democrats Flood McCabe With Federal Job Offers So He Can Access His Pension</td>\n      <td>1.034518</td>\n      <td>0.0</td>\n      <td>2.414214</td>\n      <td>1.0</td>\n      <td>POLITICS</td>\n      <td>Carla Herreria</td>\n    </tr>\n    <tr>\n      <th>3</th>\n      <td>2018-02-28</td>\n      <td>Kevin Smith Opens Up About Death, Fat-Shaming And Chris Pratt's Prayers</td>\n      <td>1.034518</td>\n      <td>0.0</td>\n      <td>2.414214</td>\n      <td>1.0</td>\n      <td>COMEDY</td>\n      <td>Carla Herreria</td>\n    </tr>\n    <tr>\n      <th>4</th>\n      <td>2018-01-17</td>\n      <td>Hackers Messaged Donald Trump With Former Fox News Hosts' Twitter Accounts</td>\n      <td>1.034518</td>\n      <td>0.0</td>\n      <td>2.414214</td>\n      <td>1.0</td>\n      <td>MEDIA</td>\n      <td>Carla Herreria</td>\n    </tr>\n    <tr>\n      <th>5</th>\n      <td>2018-01-06</td>\n      <td>White Supremacist Charged With Terrorism After Alleged Attempt To Derail Train</td>\n      <td>1.034518</td>\n      <td>0.0</td>\n      <td>2.414214</td>\n      <td>1.0</td>\n      <td>CRIME</td>\n      <td>Carla Herreria</td>\n    </tr>\n    <tr>\n      <th>6</th>\n      <td>2018-03-08</td>\n      <td>HBO's Martin Luther King Jr. Film Reveals His 'Dark And Dangerous' Final Years</td>\n      <td>1.034518</td>\n      <td>0.0</td>\n      <td>2.414214</td>\n      <td>1.0</td>\n      <td>BLACK VOICES</td>\n      <td>Carla Herreria</td>\n    </tr>\n    <tr>\n      <th>7</th>\n      <td>2018-05-25</td>\n      <td>Rachel Dolezal Faces Felony Charges For Welfare Fraud</td>\n      <td>1.034518</td>\n      <td>0.0</td>\n      <td>2.414214</td>\n      <td>1.0</td>\n      <td>CRIME</td>\n      <td>Carla Herreria</td>\n    </tr>\n    <tr>\n      <th>8</th>\n      <td>2018-01-26</td>\n      <td>Olympic Committee Gives USA Gymnastics An Ultimatum Over Sex Abuse Scandal</td>\n      <td>1.034518</td>\n      <td>0.0</td>\n      <td>2.414214</td>\n      <td>1.0</td>\n      <td>SPORTS</td>\n      <td>Carla Herreria</td>\n    </tr>\n    <tr>\n      <th>9</th>\n      <td>2018-01-04</td>\n      <td>Gunfire Outside Colorado State Capitol Forces Brief Lockdown</td>\n      <td>1.034518</td>\n      <td>0.0</td>\n      <td>2.414214</td>\n      <td>1.0</td>\n      <td>CRIME</td>\n      <td>Carla Herreria</td>\n    </tr>\n  </tbody>\n</table>\n</div>"
     },
     "metadata": {},
     "execution_count": 67
    }
   ],
   "source": [
    "def avg_w2v_with_category_and_authors(row_index, num_similar_items, w1,w2,w3): #headline_preference = True, category_preference = False):\n",
    "    w2v_dist  = pairwise_distances(w2v_headline, w2v_headline[row_index].reshape(1,-1))\n",
    "    \n",
    "    category_dist = pairwise_distances(category_onehot_encoded, category_onehot_encoded[row_index]) + 1\n",
    "    \n",
    "    authors_dist = pairwise_distances(authors_onehot_encoded, authors_onehot_encoded[row_index]) + 1\n",
    "    \n",
    "    weighted_couple_dist   = (w1 * w2v_dist +  w2 * category_dist + w3 * authors_dist)/float(w1 + w2 + w3)\n",
    "    \n",
    "    indices = np.argsort(weighted_couple_dist.flatten())[0:num_similar_items].tolist()\n",
    "    \n",
    "    df = pd.DataFrame({'publish_date': news_articles['date'][indices].values,\n",
    "                'headline':news_articles['headline'][indices].values,\n",
    "                'Weighted Euclidean similarity with the queried article': weighted_couple_dist[indices].ravel(),\n",
    "                'Word2Vec based Euclidean similarity': w2v_dist[indices].ravel(),\n",
    "                'Category based Euclidean similarity': category_dist[indices].ravel(),\n",
    "                'Authors based Euclidean similarity': authors_dist[indices].ravel(),       \n",
    "                'Categoty': news_articles['category'][indices].values,\n",
    "                'Authors': news_articles['authors'][indices].values})\n",
    "    \n",
    "    print(\"=\"*30,\"Queried article details\",\"=\"*30)\n",
    "    \n",
    "    print('headline : ',news_articles['headline'][indices[0]])\n",
    "    \n",
    "    print('Categoty : ', news_articles['category'][indices[0]])\n",
    "    \n",
    "    print('Authors : ', news_articles['authors'][indices[0]])\n",
    "    \n",
    "    print(\"\\n\",\"=\"*25,\"Recommended articles : \",\"=\"*23)\n",
    "    #return df.iloc[1:,[1,6,7]]\n",
    "    \n",
    "    return df.iloc[1:, ]\n",
    "\n",
    "\n",
    "avg_w2v_with_category_and_authors(528,10,0.1,0.1,1)"
   ]
  },
  {
   "cell_type": "code",
   "execution_count": 68,
   "metadata": {},
   "outputs": [],
   "source": [
    " #Weighted similarity based on headline, category, author and publishing day\n",
    " publishingday_onehot_encoded = OneHotEncoder().fit_transform(np.array(news_articles_temp[\"day and month\"]).reshape(-1,1))"
   ]
  },
  {
   "cell_type": "code",
   "execution_count": 69,
   "metadata": {
    "tags": []
   },
   "outputs": [
    {
     "output_type": "stream",
     "name": "stdout",
     "text": "============================== Queried article details ==============================\nheadline :  Universities Tell Applicants That Protesting Gun Violence Won’t Affect Admissions\nCategoty :  EDUCATION\nAuthors :  Carla Herreria\nDay and month :  Sat_Feb\n\n ========================= Recommended articles :  =======================\n"
    },
    {
     "output_type": "execute_result",
     "data": {
      "text/plain": "  publish_date  \\\n1 2018-02-17     \n2 2018-02-17     \n3 2018-02-24     \n4 2018-02-24     \n5 2018-02-17     \n6 2018-02-03     \n7 2018-02-03     \n8 2018-02-17     \n9 2018-02-10     \n\n                                                                            headline_text  \\\n1  U.S. Figure Skater Nathan Chen Redeems Himself With Record-Setting Skate                 \n2  Florida Gubernatorial Candidate Calls On Governor To Halt AR-15 Sales                    \n3  Tribal Filipinos Were A Surprising Muse For ‘Black Panther’s’ Dora Milaje                \n4  Nigerian Bobsled Team Brought Something More Valuable Than Gold To The Olympics          \n5  Maame Biney's Pioneering Run At The Winter Olympics Is Over                              \n6  These Patriots Offensive Linemen Say They’d Support A Gay Teammate                       \n7  The Largest Number Of Scientists In Modern U.S. History Are Running For Office In 2018   \n8  Russian Indictments Could Set Stage For More Mueller Charges                             \n9  Watch This Jamaican Bobsledder's Tearful Plea For Diversity At Winter Olympics           \n\n   Weighted Euclidean similarity with the queried article  \\\n1  1.031863                                                 \n2  1.031863                                                 \n3  1.031863                                                 \n4  1.140648                                                 \n5  1.140648                                                 \n6  1.140648                                                 \n7  1.140648                                                 \n8  1.140648                                                 \n9  1.140648                                                 \n\n   Word2Vec based Euclidean similarity  Category based Euclidean similarity  \\\n1  0.0                                  2.414214                              \n2  0.0                                  2.414214                              \n3  0.0                                  2.414214                              \n4  0.0                                  2.414214                              \n5  0.0                                  2.414214                              \n6  0.0                                  2.414214                              \n7  0.0                                  2.414214                              \n8  0.0                                  2.414214                              \n9  0.0                                  2.414214                              \n\n   Authors based Euclidean similarity  \\\n1  1.000000                             \n2  1.000000                             \n3  1.000000                             \n4  2.414214                             \n5  2.414214                             \n6  2.414214                             \n7  2.414214                             \n8  2.414214                             \n9  2.414214                             \n\n   Publishing day based Euclidean similarity      Categoty  \\\n1  1.0                                        SPORTS         \n2  1.0                                        POLITICS       \n3  1.0                                        BLACK VOICES   \n4  1.0                                        BLACK VOICES   \n5  1.0                                        SPORTS         \n6  1.0                                        QUEER VOICES   \n7  1.0                                        POLITICS       \n8  1.0                                        POLITICS       \n9  1.0                                        BLACK VOICES   \n\n                   Authors Day and month  \n1  Carla Herreria           Sat_Feb       \n2  Carla Herreria           Sat_Feb       \n3  Carla Herreria           Sat_Feb       \n4  Taryn Finley             Sat_Feb       \n5  Ron Dicker               Sat_Feb       \n6  Jim Buzinski, Outsports  Sat_Feb       \n7  Alexander C. Kaufman     Sat_Feb       \n8  Jan Wolf, Reuters        Sat_Feb       \n9  Ron Dicker               Sat_Feb       ",
      "text/html": "<div>\n<style scoped>\n    .dataframe tbody tr th:only-of-type {\n        vertical-align: middle;\n    }\n\n    .dataframe tbody tr th {\n        vertical-align: top;\n    }\n\n    .dataframe thead th {\n        text-align: right;\n    }\n</style>\n<table border=\"1\" class=\"dataframe\">\n  <thead>\n    <tr style=\"text-align: right;\">\n      <th></th>\n      <th>publish_date</th>\n      <th>headline_text</th>\n      <th>Weighted Euclidean similarity with the queried article</th>\n      <th>Word2Vec based Euclidean similarity</th>\n      <th>Category based Euclidean similarity</th>\n      <th>Authors based Euclidean similarity</th>\n      <th>Publishing day based Euclidean similarity</th>\n      <th>Categoty</th>\n      <th>Authors</th>\n      <th>Day and month</th>\n    </tr>\n  </thead>\n  <tbody>\n    <tr>\n      <th>1</th>\n      <td>2018-02-17</td>\n      <td>U.S. Figure Skater Nathan Chen Redeems Himself With Record-Setting Skate</td>\n      <td>1.031863</td>\n      <td>0.0</td>\n      <td>2.414214</td>\n      <td>1.000000</td>\n      <td>1.0</td>\n      <td>SPORTS</td>\n      <td>Carla Herreria</td>\n      <td>Sat_Feb</td>\n    </tr>\n    <tr>\n      <th>2</th>\n      <td>2018-02-17</td>\n      <td>Florida Gubernatorial Candidate Calls On Governor To Halt AR-15 Sales</td>\n      <td>1.031863</td>\n      <td>0.0</td>\n      <td>2.414214</td>\n      <td>1.000000</td>\n      <td>1.0</td>\n      <td>POLITICS</td>\n      <td>Carla Herreria</td>\n      <td>Sat_Feb</td>\n    </tr>\n    <tr>\n      <th>3</th>\n      <td>2018-02-24</td>\n      <td>Tribal Filipinos Were A Surprising Muse For ‘Black Panther’s’ Dora Milaje</td>\n      <td>1.031863</td>\n      <td>0.0</td>\n      <td>2.414214</td>\n      <td>1.000000</td>\n      <td>1.0</td>\n      <td>BLACK VOICES</td>\n      <td>Carla Herreria</td>\n      <td>Sat_Feb</td>\n    </tr>\n    <tr>\n      <th>4</th>\n      <td>2018-02-24</td>\n      <td>Nigerian Bobsled Team Brought Something More Valuable Than Gold To The Olympics</td>\n      <td>1.140648</td>\n      <td>0.0</td>\n      <td>2.414214</td>\n      <td>2.414214</td>\n      <td>1.0</td>\n      <td>BLACK VOICES</td>\n      <td>Taryn Finley</td>\n      <td>Sat_Feb</td>\n    </tr>\n    <tr>\n      <th>5</th>\n      <td>2018-02-17</td>\n      <td>Maame Biney's Pioneering Run At The Winter Olympics Is Over</td>\n      <td>1.140648</td>\n      <td>0.0</td>\n      <td>2.414214</td>\n      <td>2.414214</td>\n      <td>1.0</td>\n      <td>SPORTS</td>\n      <td>Ron Dicker</td>\n      <td>Sat_Feb</td>\n    </tr>\n    <tr>\n      <th>6</th>\n      <td>2018-02-03</td>\n      <td>These Patriots Offensive Linemen Say They’d Support A Gay Teammate</td>\n      <td>1.140648</td>\n      <td>0.0</td>\n      <td>2.414214</td>\n      <td>2.414214</td>\n      <td>1.0</td>\n      <td>QUEER VOICES</td>\n      <td>Jim Buzinski, Outsports</td>\n      <td>Sat_Feb</td>\n    </tr>\n    <tr>\n      <th>7</th>\n      <td>2018-02-03</td>\n      <td>The Largest Number Of Scientists In Modern U.S. History Are Running For Office In 2018</td>\n      <td>1.140648</td>\n      <td>0.0</td>\n      <td>2.414214</td>\n      <td>2.414214</td>\n      <td>1.0</td>\n      <td>POLITICS</td>\n      <td>Alexander C. Kaufman</td>\n      <td>Sat_Feb</td>\n    </tr>\n    <tr>\n      <th>8</th>\n      <td>2018-02-17</td>\n      <td>Russian Indictments Could Set Stage For More Mueller Charges</td>\n      <td>1.140648</td>\n      <td>0.0</td>\n      <td>2.414214</td>\n      <td>2.414214</td>\n      <td>1.0</td>\n      <td>POLITICS</td>\n      <td>Jan Wolf, Reuters</td>\n      <td>Sat_Feb</td>\n    </tr>\n    <tr>\n      <th>9</th>\n      <td>2018-02-10</td>\n      <td>Watch This Jamaican Bobsledder's Tearful Plea For Diversity At Winter Olympics</td>\n      <td>1.140648</td>\n      <td>0.0</td>\n      <td>2.414214</td>\n      <td>2.414214</td>\n      <td>1.0</td>\n      <td>BLACK VOICES</td>\n      <td>Ron Dicker</td>\n      <td>Sat_Feb</td>\n    </tr>\n  </tbody>\n</table>\n</div>"
     },
     "metadata": {},
     "execution_count": 69
    }
   ],
   "source": [
    "def avg_w2v_with_category_authors_and_publshing_day(row_index, num_similar_items, w1,w2,w3,w4): #headline_preference = True, category_preference = False):\n",
    "    w2v_dist  = pairwise_distances(w2v_headline, w2v_headline[row_index].reshape(1,-1))\n",
    "    \n",
    "    category_dist = pairwise_distances(category_onehot_encoded, category_onehot_encoded[row_index]) + 1\n",
    "    \n",
    "    authors_dist = pairwise_distances(authors_onehot_encoded, authors_onehot_encoded[row_index]) + 1\n",
    "    \n",
    "    publishingday_dist = pairwise_distances(publishingday_onehot_encoded, publishingday_onehot_encoded[row_index]) + 1\n",
    "    \n",
    "    weighted_couple_dist   = (w1 * w2v_dist +  w2 * category_dist + w3 * authors_dist + w4 * publishingday_dist)/float(w1 + w2 + w3 + w4)\n",
    "    \n",
    "    indices = np.argsort(weighted_couple_dist.flatten())[0:num_similar_items].tolist()\n",
    "    \n",
    "    df = pd.DataFrame({'publish_date': news_articles['date'][indices].values,\n",
    "                'headline_text':news_articles['headline'][indices].values,\n",
    "                'Weighted Euclidean similarity with the queried article': weighted_couple_dist[indices].ravel(),\n",
    "                'Word2Vec based Euclidean similarity': w2v_dist[indices].ravel(),\n",
    "                'Category based Euclidean similarity': category_dist[indices].ravel(),\n",
    "                'Authors based Euclidean similarity': authors_dist[indices].ravel(),   \n",
    "                'Publishing day based Euclidean similarity': publishingday_dist[indices].ravel(), \n",
    "                'Categoty': news_articles['category'][indices].values,\n",
    "                'Authors': news_articles['authors'][indices].values,\n",
    "                'Day and month': news_articles['day and month'][indices].values})\n",
    "    \n",
    "    print(\"=\"*30,\"Queried article details\",\"=\"*30)\n",
    "    \n",
    "    print('headline : ',news_articles['headline'][indices[0]])\n",
    "    \n",
    "    print('Categoty : ', news_articles['category'][indices[0]])\n",
    "    \n",
    "    print('Authors : ', news_articles['authors'][indices[0]])\n",
    "    \n",
    "    print('Day and month : ', news_articles['day and month'][indices[0]])\n",
    "    \n",
    "    print(\"\\n\",\"=\"*25,\"Recommended articles : \",\"=\"*23)\n",
    "    #return df.iloc[1:,[1,7,8,9]]\n",
    "    \n",
    "    return df.iloc[1:, ]\n",
    "\n",
    "\n",
    "avg_w2v_with_category_authors_and_publshing_day(528,10,0.1,0.1,0.1,1)"
   ]
  },
  {
   "cell_type": "code",
   "execution_count": null,
   "metadata": {},
   "outputs": [],
   "source": []
  }
 ]
}